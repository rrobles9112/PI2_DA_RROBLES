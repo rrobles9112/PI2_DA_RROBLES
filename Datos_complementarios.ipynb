{
 "cells": [
  {
   "cell_type": "markdown",
   "metadata": {},
   "source": [
    "# Poblacion Argentina\n",
    "Este cuaderno de Jupyter nos permite extraer información de dos fuentes diferentes para analizar homicidios en accidentes de tráfico:\n",
    "1. API de Buenos Aires BA DATA:\n",
    "Utilizaremos esta API para obtener información geográfica (barrio, comuna, comisaría, etc.) a partir de coordenadas de latitud y longitud. Esto nos ayudará a enriquecer nuestro conjunto de datos de homicidios en accidentes de tráfico con información contextual.\n",
    "2. Censos Poblacional de 2010 a 2022 en Wikipedia:\n",
    "Extraeremos datos de los censos para calcular indicadores clave de rendimiento (KPIs) relevantes para el proyecto.\n",
    "**En resumen, combinaremos datos de ubicación con datos demográficos para obtener un análisis más completo de los homicidios en accidentes de tráfico.**"
   ]
  },
  {
   "cell_type": "markdown",
   "metadata": {},
   "source": [
    "# Importaciones de Librerias\n"
   ]
  },
  {
   "cell_type": "code",
   "metadata": {
    "is_executing": true,
    "ExecuteTime": {
     "end_time": "2024-04-17T00:49:21.520596Z",
     "start_time": "2024-04-17T00:49:21.447117Z"
    }
   },
   "source": [
    "# importaciones\n",
    "import pandas as pd\n",
    "import requests\n",
    "from bs4 import BeautifulSoup\n",
    "import seaborn as sns \n",
    "import matplotlib.pyplot as plt \n",
    "import plotly.express as px\n",
    "\n",
    "import warnings\n",
    "warnings.filterwarnings(\"ignore\")"
   ],
   "outputs": [],
   "execution_count": 39
  },
  {
   "cell_type": "code",
   "metadata": {
    "ExecuteTime": {
     "end_time": "2024-04-17T00:49:21.640548Z",
     "start_time": "2024-04-17T00:49:21.524128Z"
    }
   },
   "source": [
    "homicidios = pd.read_csv('homicidios_hechos.csv')"
   ],
   "outputs": [],
   "execution_count": 40
  },
  {
   "cell_type": "code",
   "metadata": {
    "is_executing": true,
    "ExecuteTime": {
     "end_time": "2024-04-17T00:49:21.686613Z",
     "start_time": "2024-04-17T00:49:21.641557Z"
    }
   },
   "source": [
    "homicidios.head()"
   ],
   "outputs": [
    {
     "data": {
      "text/plain": [
       "    Id Hecho  Nro de víctimas       Fecha   Año    Mes  Día      Hora  \\\n",
       "0  2016-0001                1  2016-01-01  2016  Enero    1  04:00:00   \n",
       "1  2016-0002                1  2016-01-02  2016  Enero    2  01:15:00   \n",
       "2  2016-0003                1  2016-01-03  2016  Enero    3  07:00:00   \n",
       "3  2016-0004                1  2016-01-10  2016  Enero   10  00:00:00   \n",
       "4  2016-0005                1  2016-01-21  2016  Enero   21  05:20:00   \n",
       "\n",
       "   Hora entera                            Lugar del hecho Tipo de calle  ...  \\\n",
       "0          4.0  AV PIEDRA BUENA Y AV FERNANDEZ DE LA CRUZ       AVENIDA  ...   \n",
       "1          1.0          AV GRAL PAZ  Y AV DE LOS CORRALES      GRAL PAZ  ...   \n",
       "2          7.0                         AV ENTRE RIOS 2034       AVENIDA  ...   \n",
       "3          0.0      AV LARRAZABAL Y GRAL VILLEGAS CONRADO       AVENIDA  ...   \n",
       "4          5.0  AV SAN JUAN Y PRESIDENTE LUIS SAENZ PEÑA        AVENIDA  ...   \n",
       "\n",
       "                               Dirección normalizada Comuna  \\\n",
       "0  PIEDRA BUENA AV. y FERNANDEZ DE LA CRUZ, F., G...      8   \n",
       "1               PAZ, GRAL. AV. y DE LOS CORRALES AV.      9   \n",
       "2                                ENTRE RIOS AV. 2034      1   \n",
       "3          LARRAZABAL AV. y VILLEGAS, CONRADO, GRAL.      8   \n",
       "4            SAN JUAN AV. y SAENZ PEÃ‘A, LUIS, PRES.      1   \n",
       "\n",
       "                                 XY (CABA)      POS X      POS Y  \\\n",
       "0    Point (98896.78238426 93532.43437792) -58.475340 -34.687570   \n",
       "1    Point (95832.05571093 95505.41641999) -58.508775 -34.669777   \n",
       "2   Point (106684.29090040 99706.57687843) -58.390403 -34.631894   \n",
       "3    Point (99840.65224780 94269.16534422) -58.465039 -34.680930   \n",
       "4  Point (106980.32827929 100752.16915795) -58.387183 -34.622466   \n",
       "\n",
       "    Participantes  Víctima    Acusado Día de la Semana    Tipo de Día  \n",
       "0       MOTO-AUTO     MOTO       AUTO          Viernes  Día de Semana  \n",
       "1  AUTO-PASAJEROS     AUTO  PASAJEROS           Sábado  Fin de Semana  \n",
       "2       MOTO-AUTO     MOTO       AUTO          Domingo  Fin de Semana  \n",
       "3         MOTO-SD     MOTO         SD          Domingo  Fin de Semana  \n",
       "4  MOTO-PASAJEROS     MOTO  PASAJEROS           Jueves  Día de Semana  \n",
       "\n",
       "[5 rows x 22 columns]"
      ],
      "text/html": [
       "<div>\n",
       "<style scoped>\n",
       "    .dataframe tbody tr th:only-of-type {\n",
       "        vertical-align: middle;\n",
       "    }\n",
       "\n",
       "    .dataframe tbody tr th {\n",
       "        vertical-align: top;\n",
       "    }\n",
       "\n",
       "    .dataframe thead th {\n",
       "        text-align: right;\n",
       "    }\n",
       "</style>\n",
       "<table border=\"1\" class=\"dataframe\">\n",
       "  <thead>\n",
       "    <tr style=\"text-align: right;\">\n",
       "      <th></th>\n",
       "      <th>Id Hecho</th>\n",
       "      <th>Nro de víctimas</th>\n",
       "      <th>Fecha</th>\n",
       "      <th>Año</th>\n",
       "      <th>Mes</th>\n",
       "      <th>Día</th>\n",
       "      <th>Hora</th>\n",
       "      <th>Hora entera</th>\n",
       "      <th>Lugar del hecho</th>\n",
       "      <th>Tipo de calle</th>\n",
       "      <th>...</th>\n",
       "      <th>Dirección normalizada</th>\n",
       "      <th>Comuna</th>\n",
       "      <th>XY (CABA)</th>\n",
       "      <th>POS X</th>\n",
       "      <th>POS Y</th>\n",
       "      <th>Participantes</th>\n",
       "      <th>Víctima</th>\n",
       "      <th>Acusado</th>\n",
       "      <th>Día de la Semana</th>\n",
       "      <th>Tipo de Día</th>\n",
       "    </tr>\n",
       "  </thead>\n",
       "  <tbody>\n",
       "    <tr>\n",
       "      <th>0</th>\n",
       "      <td>2016-0001</td>\n",
       "      <td>1</td>\n",
       "      <td>2016-01-01</td>\n",
       "      <td>2016</td>\n",
       "      <td>Enero</td>\n",
       "      <td>1</td>\n",
       "      <td>04:00:00</td>\n",
       "      <td>4.0</td>\n",
       "      <td>AV PIEDRA BUENA Y AV FERNANDEZ DE LA CRUZ</td>\n",
       "      <td>AVENIDA</td>\n",
       "      <td>...</td>\n",
       "      <td>PIEDRA BUENA AV. y FERNANDEZ DE LA CRUZ, F., G...</td>\n",
       "      <td>8</td>\n",
       "      <td>Point (98896.78238426 93532.43437792)</td>\n",
       "      <td>-58.475340</td>\n",
       "      <td>-34.687570</td>\n",
       "      <td>MOTO-AUTO</td>\n",
       "      <td>MOTO</td>\n",
       "      <td>AUTO</td>\n",
       "      <td>Viernes</td>\n",
       "      <td>Día de Semana</td>\n",
       "    </tr>\n",
       "    <tr>\n",
       "      <th>1</th>\n",
       "      <td>2016-0002</td>\n",
       "      <td>1</td>\n",
       "      <td>2016-01-02</td>\n",
       "      <td>2016</td>\n",
       "      <td>Enero</td>\n",
       "      <td>2</td>\n",
       "      <td>01:15:00</td>\n",
       "      <td>1.0</td>\n",
       "      <td>AV GRAL PAZ  Y AV DE LOS CORRALES</td>\n",
       "      <td>GRAL PAZ</td>\n",
       "      <td>...</td>\n",
       "      <td>PAZ, GRAL. AV. y DE LOS CORRALES AV.</td>\n",
       "      <td>9</td>\n",
       "      <td>Point (95832.05571093 95505.41641999)</td>\n",
       "      <td>-58.508775</td>\n",
       "      <td>-34.669777</td>\n",
       "      <td>AUTO-PASAJEROS</td>\n",
       "      <td>AUTO</td>\n",
       "      <td>PASAJEROS</td>\n",
       "      <td>Sábado</td>\n",
       "      <td>Fin de Semana</td>\n",
       "    </tr>\n",
       "    <tr>\n",
       "      <th>2</th>\n",
       "      <td>2016-0003</td>\n",
       "      <td>1</td>\n",
       "      <td>2016-01-03</td>\n",
       "      <td>2016</td>\n",
       "      <td>Enero</td>\n",
       "      <td>3</td>\n",
       "      <td>07:00:00</td>\n",
       "      <td>7.0</td>\n",
       "      <td>AV ENTRE RIOS 2034</td>\n",
       "      <td>AVENIDA</td>\n",
       "      <td>...</td>\n",
       "      <td>ENTRE RIOS AV. 2034</td>\n",
       "      <td>1</td>\n",
       "      <td>Point (106684.29090040 99706.57687843)</td>\n",
       "      <td>-58.390403</td>\n",
       "      <td>-34.631894</td>\n",
       "      <td>MOTO-AUTO</td>\n",
       "      <td>MOTO</td>\n",
       "      <td>AUTO</td>\n",
       "      <td>Domingo</td>\n",
       "      <td>Fin de Semana</td>\n",
       "    </tr>\n",
       "    <tr>\n",
       "      <th>3</th>\n",
       "      <td>2016-0004</td>\n",
       "      <td>1</td>\n",
       "      <td>2016-01-10</td>\n",
       "      <td>2016</td>\n",
       "      <td>Enero</td>\n",
       "      <td>10</td>\n",
       "      <td>00:00:00</td>\n",
       "      <td>0.0</td>\n",
       "      <td>AV LARRAZABAL Y GRAL VILLEGAS CONRADO</td>\n",
       "      <td>AVENIDA</td>\n",
       "      <td>...</td>\n",
       "      <td>LARRAZABAL AV. y VILLEGAS, CONRADO, GRAL.</td>\n",
       "      <td>8</td>\n",
       "      <td>Point (99840.65224780 94269.16534422)</td>\n",
       "      <td>-58.465039</td>\n",
       "      <td>-34.680930</td>\n",
       "      <td>MOTO-SD</td>\n",
       "      <td>MOTO</td>\n",
       "      <td>SD</td>\n",
       "      <td>Domingo</td>\n",
       "      <td>Fin de Semana</td>\n",
       "    </tr>\n",
       "    <tr>\n",
       "      <th>4</th>\n",
       "      <td>2016-0005</td>\n",
       "      <td>1</td>\n",
       "      <td>2016-01-21</td>\n",
       "      <td>2016</td>\n",
       "      <td>Enero</td>\n",
       "      <td>21</td>\n",
       "      <td>05:20:00</td>\n",
       "      <td>5.0</td>\n",
       "      <td>AV SAN JUAN Y PRESIDENTE LUIS SAENZ PEÑA</td>\n",
       "      <td>AVENIDA</td>\n",
       "      <td>...</td>\n",
       "      <td>SAN JUAN AV. y SAENZ PEÃ‘A, LUIS, PRES.</td>\n",
       "      <td>1</td>\n",
       "      <td>Point (106980.32827929 100752.16915795)</td>\n",
       "      <td>-58.387183</td>\n",
       "      <td>-34.622466</td>\n",
       "      <td>MOTO-PASAJEROS</td>\n",
       "      <td>MOTO</td>\n",
       "      <td>PASAJEROS</td>\n",
       "      <td>Jueves</td>\n",
       "      <td>Día de Semana</td>\n",
       "    </tr>\n",
       "  </tbody>\n",
       "</table>\n",
       "<p>5 rows × 22 columns</p>\n",
       "</div>"
      ]
     },
     "execution_count": 41,
     "metadata": {},
     "output_type": "execute_result"
    }
   ],
   "execution_count": 41
  },
  {
   "cell_type": "markdown",
   "metadata": {},
   "source": [
    "## Desarrollo de una funcion de geolocalización:\n",
    "##### Se ha implementado una función que determina el barrio de la Ciudad Autónoma de Buenos Aires (CABA) al que pertenece un punto específico, utilizando las coordenadas de latitud y longitud disponibles en el conjunto de datos (DataFrame)."
   ]
  },
  {
   "cell_type": "code",
   "metadata": {
    "ExecuteTime": {
     "end_time": "2024-04-17T00:49:21.696777Z",
     "start_time": "2024-04-17T00:49:21.687624Z"
    }
   },
   "source": [
    "def obtener_barrio(latitud, longitud):\n",
    "    \"\"\"\n",
    "    Obtiene el nombre del barrio correspondiente a las coordenadas geográficas dadas.\n",
    "\n",
    "    Parameters:\n",
    "    -----------\n",
    "        latitud (float): La latitud de la ubicación.\n",
    "        longitud (float): La longitud de la ubicación.\n",
    "\n",
    "    Returns:\n",
    "    --------\n",
    "        str: El nombre del barrio si se encuentra, o \"Desconocido\" si no se encuentra o hay un error.\n",
    "    \"\"\"\n",
    "    url = \"https://datosabiertos-usig-apis.buenosaires.gob.ar/datos_utiles\"\n",
    "    params = {\n",
    "        \"x\": longitud,\n",
    "        \"y\": latitud,\n",
    "        \"formato\": \"json\"\n",
    "    }\n",
    "\n",
    "    try:\n",
    "        response = requests.get(url, params=params)\n",
    "        data = response.json()\n",
    "        if \"barrio\" in data:\n",
    "            return data[\"barrio\"]\n",
    "        else:\n",
    "            return \"Desconocido\"\n",
    "    except requests.exceptions.RequestException as e:\n",
    "        print(\"Error al hacer la solicitud:\", e)\n",
    "        return \"Desconocido\""
   ],
   "outputs": [],
   "execution_count": 42
  },
  {
   "cell_type": "markdown",
   "metadata": {},
   "source": [
    "# Aplicación de la función\n",
    "Aplicamos la función creada en una nueva columna del DataFrame Homicidios"
   ]
  },
  {
   "cell_type": "markdown",
   "metadata": {
    "ExecuteTime": {
     "end_time": "2024-04-10T03:54:05.557241Z",
     "start_time": "2024-04-10T03:33:54.520039Z"
    }
   },
   "source": [
    "homicidios['Barrio'] = homicidios.apply(lambda row: obtener_barrio(row['POS Y'], row['POS X']), axis=1)"
   ]
  },
  {
   "cell_type": "code",
   "metadata": {
    "ExecuteTime": {
     "end_time": "2024-04-17T00:50:35.705023Z",
     "start_time": "2024-04-17T00:49:21.698786Z"
    }
   },
   "source": [
    "from concurrent.futures import ThreadPoolExecutor, as_completed\n",
    "\n",
    "def obtener_barrio_coords(coords):\n",
    "    latitud, longitud = coords\n",
    "    url = \"https://datosabiertos-usig-apis.buenosaires.gob.ar/datos_utiles\"\n",
    "    params = {\n",
    "        \"x\": longitud,\n",
    "        \"y\": latitud,\n",
    "        \"formato\": \"json\"\n",
    "    }\n",
    "\n",
    "    try:\n",
    "        response = requests.get(url, params=params)\n",
    "        response.raise_for_status()  # Esto lanzará una excepción si la respuesta no es exitosa\n",
    "        data = response.json()\n",
    "        return data.get(\"barrio\", \"Desconocido\")\n",
    "    except Exception as e:\n",
    "        print(f\"Error al hacer la solicitud para {coords}: {e}\")\n",
    "        return \"Desconocido\"\n",
    "\n",
    "def aplicar_obtener_barrio_concurrentemente(df, lat_col, long_col):\n",
    "    coords = [(row[lat_col], row[long_col]) for index, row in df.iterrows()]\n",
    "    results = []\n",
    "\n",
    "    with ThreadPoolExecutor() as executor:\n",
    "        future_to_coords = {executor.submit(obtener_barrio_coords, coord): coord for coord in coords}\n",
    "        for future in as_completed(future_to_coords):\n",
    "            results.append(future.result())\n",
    "            \n",
    "    return results\n",
    "\n",
    "# Ejemplo de cómo usarlo con tu DataFrame\n",
    "homicidios['Barrio'] = aplicar_obtener_barrio_concurrentemente(homicidios, 'POS Y', 'POS X')\n",
    "homicidios.head()\n"
   ],
   "outputs": [
    {
     "name": "stdout",
     "output_type": "stream",
     "text": [
      "Error al hacer la solicitud para (nan, nan): Expecting value: line 1 column 1 (char 0)\n",
      "Error al hacer la solicitud para (nan, nan): Expecting value: line 1 column 1 (char 0)\n",
      "Error al hacer la solicitud para (nan, nan): Expecting value: line 1 column 1 (char 0)\n",
      "Error al hacer la solicitud para (nan, nan): Expecting value: line 1 column 1 (char 0)\n",
      "Error al hacer la solicitud para (nan, nan): Expecting value: line 1 column 1 (char 0)\n",
      "Error al hacer la solicitud para (nan, nan): Expecting value: line 1 column 1 (char 0)\n",
      "Error al hacer la solicitud para (nan, nan): Expecting value: line 1 column 1 (char 0)\n",
      "Error al hacer la solicitud para (nan, nan): Expecting value: line 1 column 1 (char 0)\n",
      "Error al hacer la solicitud para (nan, nan): Expecting value: line 1 column 1 (char 0)\n",
      "Error al hacer la solicitud para (nan, nan): Expecting value: line 1 column 1 (char 0)\n"
     ]
    },
    {
     "data": {
      "text/plain": [
       "    Id Hecho  Nro de víctimas       Fecha   Año    Mes  Día      Hora  \\\n",
       "0  2016-0001                1  2016-01-01  2016  Enero    1  04:00:00   \n",
       "1  2016-0002                1  2016-01-02  2016  Enero    2  01:15:00   \n",
       "2  2016-0003                1  2016-01-03  2016  Enero    3  07:00:00   \n",
       "3  2016-0004                1  2016-01-10  2016  Enero   10  00:00:00   \n",
       "4  2016-0005                1  2016-01-21  2016  Enero   21  05:20:00   \n",
       "\n",
       "   Hora entera                            Lugar del hecho Tipo de calle  ...  \\\n",
       "0          4.0  AV PIEDRA BUENA Y AV FERNANDEZ DE LA CRUZ       AVENIDA  ...   \n",
       "1          1.0          AV GRAL PAZ  Y AV DE LOS CORRALES      GRAL PAZ  ...   \n",
       "2          7.0                         AV ENTRE RIOS 2034       AVENIDA  ...   \n",
       "3          0.0      AV LARRAZABAL Y GRAL VILLEGAS CONRADO       AVENIDA  ...   \n",
       "4          5.0  AV SAN JUAN Y PRESIDENTE LUIS SAENZ PEÑA        AVENIDA  ...   \n",
       "\n",
       "  Comuna                                XY (CABA)      POS X      POS Y  \\\n",
       "0      8    Point (98896.78238426 93532.43437792) -58.475340 -34.687570   \n",
       "1      9    Point (95832.05571093 95505.41641999) -58.508775 -34.669777   \n",
       "2      1   Point (106684.29090040 99706.57687843) -58.390403 -34.631894   \n",
       "3      8    Point (99840.65224780 94269.16534422) -58.465039 -34.680930   \n",
       "4      1  Point (106980.32827929 100752.16915795) -58.387183 -34.622466   \n",
       "\n",
       "    Participantes  Víctima    Acusado Día de la Semana    Tipo de Día  \\\n",
       "0       MOTO-AUTO     MOTO       AUTO          Viernes  Día de Semana   \n",
       "1  AUTO-PASAJEROS     AUTO  PASAJEROS           Sábado  Fin de Semana   \n",
       "2       MOTO-AUTO     MOTO       AUTO          Domingo  Fin de Semana   \n",
       "3         MOTO-SD     MOTO         SD          Domingo  Fin de Semana   \n",
       "4  MOTO-PASAJEROS     MOTO  PASAJEROS           Jueves  Día de Semana   \n",
       "\n",
       "             Barrio  \n",
       "0       San Nicolas  \n",
       "1      Villa Devoto  \n",
       "2      Constitucion  \n",
       "3          Barracas  \n",
       "4  Parque Chacabuco  \n",
       "\n",
       "[5 rows x 23 columns]"
      ],
      "text/html": [
       "<div>\n",
       "<style scoped>\n",
       "    .dataframe tbody tr th:only-of-type {\n",
       "        vertical-align: middle;\n",
       "    }\n",
       "\n",
       "    .dataframe tbody tr th {\n",
       "        vertical-align: top;\n",
       "    }\n",
       "\n",
       "    .dataframe thead th {\n",
       "        text-align: right;\n",
       "    }\n",
       "</style>\n",
       "<table border=\"1\" class=\"dataframe\">\n",
       "  <thead>\n",
       "    <tr style=\"text-align: right;\">\n",
       "      <th></th>\n",
       "      <th>Id Hecho</th>\n",
       "      <th>Nro de víctimas</th>\n",
       "      <th>Fecha</th>\n",
       "      <th>Año</th>\n",
       "      <th>Mes</th>\n",
       "      <th>Día</th>\n",
       "      <th>Hora</th>\n",
       "      <th>Hora entera</th>\n",
       "      <th>Lugar del hecho</th>\n",
       "      <th>Tipo de calle</th>\n",
       "      <th>...</th>\n",
       "      <th>Comuna</th>\n",
       "      <th>XY (CABA)</th>\n",
       "      <th>POS X</th>\n",
       "      <th>POS Y</th>\n",
       "      <th>Participantes</th>\n",
       "      <th>Víctima</th>\n",
       "      <th>Acusado</th>\n",
       "      <th>Día de la Semana</th>\n",
       "      <th>Tipo de Día</th>\n",
       "      <th>Barrio</th>\n",
       "    </tr>\n",
       "  </thead>\n",
       "  <tbody>\n",
       "    <tr>\n",
       "      <th>0</th>\n",
       "      <td>2016-0001</td>\n",
       "      <td>1</td>\n",
       "      <td>2016-01-01</td>\n",
       "      <td>2016</td>\n",
       "      <td>Enero</td>\n",
       "      <td>1</td>\n",
       "      <td>04:00:00</td>\n",
       "      <td>4.0</td>\n",
       "      <td>AV PIEDRA BUENA Y AV FERNANDEZ DE LA CRUZ</td>\n",
       "      <td>AVENIDA</td>\n",
       "      <td>...</td>\n",
       "      <td>8</td>\n",
       "      <td>Point (98896.78238426 93532.43437792)</td>\n",
       "      <td>-58.475340</td>\n",
       "      <td>-34.687570</td>\n",
       "      <td>MOTO-AUTO</td>\n",
       "      <td>MOTO</td>\n",
       "      <td>AUTO</td>\n",
       "      <td>Viernes</td>\n",
       "      <td>Día de Semana</td>\n",
       "      <td>San Nicolas</td>\n",
       "    </tr>\n",
       "    <tr>\n",
       "      <th>1</th>\n",
       "      <td>2016-0002</td>\n",
       "      <td>1</td>\n",
       "      <td>2016-01-02</td>\n",
       "      <td>2016</td>\n",
       "      <td>Enero</td>\n",
       "      <td>2</td>\n",
       "      <td>01:15:00</td>\n",
       "      <td>1.0</td>\n",
       "      <td>AV GRAL PAZ  Y AV DE LOS CORRALES</td>\n",
       "      <td>GRAL PAZ</td>\n",
       "      <td>...</td>\n",
       "      <td>9</td>\n",
       "      <td>Point (95832.05571093 95505.41641999)</td>\n",
       "      <td>-58.508775</td>\n",
       "      <td>-34.669777</td>\n",
       "      <td>AUTO-PASAJEROS</td>\n",
       "      <td>AUTO</td>\n",
       "      <td>PASAJEROS</td>\n",
       "      <td>Sábado</td>\n",
       "      <td>Fin de Semana</td>\n",
       "      <td>Villa Devoto</td>\n",
       "    </tr>\n",
       "    <tr>\n",
       "      <th>2</th>\n",
       "      <td>2016-0003</td>\n",
       "      <td>1</td>\n",
       "      <td>2016-01-03</td>\n",
       "      <td>2016</td>\n",
       "      <td>Enero</td>\n",
       "      <td>3</td>\n",
       "      <td>07:00:00</td>\n",
       "      <td>7.0</td>\n",
       "      <td>AV ENTRE RIOS 2034</td>\n",
       "      <td>AVENIDA</td>\n",
       "      <td>...</td>\n",
       "      <td>1</td>\n",
       "      <td>Point (106684.29090040 99706.57687843)</td>\n",
       "      <td>-58.390403</td>\n",
       "      <td>-34.631894</td>\n",
       "      <td>MOTO-AUTO</td>\n",
       "      <td>MOTO</td>\n",
       "      <td>AUTO</td>\n",
       "      <td>Domingo</td>\n",
       "      <td>Fin de Semana</td>\n",
       "      <td>Constitucion</td>\n",
       "    </tr>\n",
       "    <tr>\n",
       "      <th>3</th>\n",
       "      <td>2016-0004</td>\n",
       "      <td>1</td>\n",
       "      <td>2016-01-10</td>\n",
       "      <td>2016</td>\n",
       "      <td>Enero</td>\n",
       "      <td>10</td>\n",
       "      <td>00:00:00</td>\n",
       "      <td>0.0</td>\n",
       "      <td>AV LARRAZABAL Y GRAL VILLEGAS CONRADO</td>\n",
       "      <td>AVENIDA</td>\n",
       "      <td>...</td>\n",
       "      <td>8</td>\n",
       "      <td>Point (99840.65224780 94269.16534422)</td>\n",
       "      <td>-58.465039</td>\n",
       "      <td>-34.680930</td>\n",
       "      <td>MOTO-SD</td>\n",
       "      <td>MOTO</td>\n",
       "      <td>SD</td>\n",
       "      <td>Domingo</td>\n",
       "      <td>Fin de Semana</td>\n",
       "      <td>Barracas</td>\n",
       "    </tr>\n",
       "    <tr>\n",
       "      <th>4</th>\n",
       "      <td>2016-0005</td>\n",
       "      <td>1</td>\n",
       "      <td>2016-01-21</td>\n",
       "      <td>2016</td>\n",
       "      <td>Enero</td>\n",
       "      <td>21</td>\n",
       "      <td>05:20:00</td>\n",
       "      <td>5.0</td>\n",
       "      <td>AV SAN JUAN Y PRESIDENTE LUIS SAENZ PEÑA</td>\n",
       "      <td>AVENIDA</td>\n",
       "      <td>...</td>\n",
       "      <td>1</td>\n",
       "      <td>Point (106980.32827929 100752.16915795)</td>\n",
       "      <td>-58.387183</td>\n",
       "      <td>-34.622466</td>\n",
       "      <td>MOTO-PASAJEROS</td>\n",
       "      <td>MOTO</td>\n",
       "      <td>PASAJEROS</td>\n",
       "      <td>Jueves</td>\n",
       "      <td>Día de Semana</td>\n",
       "      <td>Parque Chacabuco</td>\n",
       "    </tr>\n",
       "  </tbody>\n",
       "</table>\n",
       "<p>5 rows × 23 columns</p>\n",
       "</div>"
      ]
     },
     "execution_count": 43,
     "metadata": {},
     "output_type": "execute_result"
    }
   ],
   "execution_count": 43
  },
  {
   "cell_type": "code",
   "metadata": {
    "ExecuteTime": {
     "end_time": "2024-04-17T00:50:35.734968Z",
     "start_time": "2024-04-17T00:50:35.710618Z"
    }
   },
   "source": [
    "homicidios[['Barrio']]"
   ],
   "outputs": [
    {
     "data": {
      "text/plain": [
       "                Barrio\n",
       "0          San Nicolas\n",
       "1         Villa Devoto\n",
       "2         Constitucion\n",
       "3             Barracas\n",
       "4     Parque Chacabuco\n",
       "..                 ...\n",
       "689   Villa Santa Rita\n",
       "690   Parque Chacabuco\n",
       "691  Parque Avellaneda\n",
       "692  Parque Avellaneda\n",
       "693             Retiro\n",
       "\n",
       "[694 rows x 1 columns]"
      ],
      "text/html": [
       "<div>\n",
       "<style scoped>\n",
       "    .dataframe tbody tr th:only-of-type {\n",
       "        vertical-align: middle;\n",
       "    }\n",
       "\n",
       "    .dataframe tbody tr th {\n",
       "        vertical-align: top;\n",
       "    }\n",
       "\n",
       "    .dataframe thead th {\n",
       "        text-align: right;\n",
       "    }\n",
       "</style>\n",
       "<table border=\"1\" class=\"dataframe\">\n",
       "  <thead>\n",
       "    <tr style=\"text-align: right;\">\n",
       "      <th></th>\n",
       "      <th>Barrio</th>\n",
       "    </tr>\n",
       "  </thead>\n",
       "  <tbody>\n",
       "    <tr>\n",
       "      <th>0</th>\n",
       "      <td>San Nicolas</td>\n",
       "    </tr>\n",
       "    <tr>\n",
       "      <th>1</th>\n",
       "      <td>Villa Devoto</td>\n",
       "    </tr>\n",
       "    <tr>\n",
       "      <th>2</th>\n",
       "      <td>Constitucion</td>\n",
       "    </tr>\n",
       "    <tr>\n",
       "      <th>3</th>\n",
       "      <td>Barracas</td>\n",
       "    </tr>\n",
       "    <tr>\n",
       "      <th>4</th>\n",
       "      <td>Parque Chacabuco</td>\n",
       "    </tr>\n",
       "    <tr>\n",
       "      <th>...</th>\n",
       "      <td>...</td>\n",
       "    </tr>\n",
       "    <tr>\n",
       "      <th>689</th>\n",
       "      <td>Villa Santa Rita</td>\n",
       "    </tr>\n",
       "    <tr>\n",
       "      <th>690</th>\n",
       "      <td>Parque Chacabuco</td>\n",
       "    </tr>\n",
       "    <tr>\n",
       "      <th>691</th>\n",
       "      <td>Parque Avellaneda</td>\n",
       "    </tr>\n",
       "    <tr>\n",
       "      <th>692</th>\n",
       "      <td>Parque Avellaneda</td>\n",
       "    </tr>\n",
       "    <tr>\n",
       "      <th>693</th>\n",
       "      <td>Retiro</td>\n",
       "    </tr>\n",
       "  </tbody>\n",
       "</table>\n",
       "<p>694 rows × 1 columns</p>\n",
       "</div>"
      ]
     },
     "execution_count": 44,
     "metadata": {},
     "output_type": "execute_result"
    }
   ],
   "execution_count": 44
  },
  {
   "cell_type": "markdown",
   "metadata": {},
   "source": [
    "##### Observamoos los homicidios que no tienen Barrios de residencia."
   ]
  },
  {
   "cell_type": "code",
   "metadata": {
    "ExecuteTime": {
     "end_time": "2024-04-17T00:50:35.774415Z",
     "start_time": "2024-04-17T00:50:35.736985Z"
    }
   },
   "source": [
    "homicidios[homicidios.Barrio == '']\n"
   ],
   "outputs": [
    {
     "data": {
      "text/plain": [
       "      Id Hecho  Nro de víctimas       Fecha   Año         Mes  Día      Hora  \\\n",
       "12   2016-0017                1  2016-02-15  2016     Febrero   15  16:54:00   \n",
       "15   2016-0021                1  2016-02-17  2016     Febrero   17  23:35:00   \n",
       "16   2016-0022                1  2016-02-21  2016     Febrero   21  06:00:00   \n",
       "23   2016-0034                1  2016-03-12  2016       Marzo   12  12:30:00   \n",
       "28   2016-0039                1  2016-03-23  2016       Marzo   23  01:50:00   \n",
       "40   2016-0054                1  2016-04-23  2016       Abril   23  21:00:00   \n",
       "49   2016-0069                1  2016-05-23  2016        Mayo   23  03:30:00   \n",
       "73   2016-0098                1  2016-07-27  2016       Julio   27  16:08:00   \n",
       "77   2016-0102                1  2016-08-10  2016      Agosto   10  23:37:00   \n",
       "129  2016-0163                1  2016-12-10  2016   Diciembre   10  07:30:00   \n",
       "139  2016-0176                1  2016-12-28  2016   Diciembre   28  01:41:00   \n",
       "156  2017-0021                1  2017-02-18  2017     Febrero   18  05:30:00   \n",
       "183  2017-0055                1  2017-05-09  2017        Mayo    9  08:30:00   \n",
       "195  2017-0069                1  2017-05-24  2017        Mayo   24  14:15:00   \n",
       "210  2017-0087                1  2017-07-10  2017       Julio   10  10:45:00   \n",
       "351  2018-0079                1  2018-07-23  2018       Julio   23  07:15:00   \n",
       "360  2018-0088                1  2018-08-17  2018      Agosto   17  16:36:00   \n",
       "373  2018-0101                1  2018-09-21  2018  Septiembre   21  00:15:00   \n",
       "400  2018-0128                2  2018-11-25  2018   Noviembre   25  04:30:00   \n",
       "426  2019-0011                1  2019-02-10  2019     Febrero   10  01:00:00   \n",
       "461  2019-0046                1  2019-06-04  2019       Junio    4  09:00:00   \n",
       "490  2019-0076                1  2019-09-05  2019  Septiembre    5  18:00:00   \n",
       "552  2020-0034                1  2020-08-02  2020      Agosto    2  03:20:00   \n",
       "559  2020-0041                1  2020-09-28  2020  Septiembre   28  01:45:00   \n",
       "606  2021-0010                1  2021-01-23  2021       Enero   23  08:00:00   \n",
       "625  2021-0029                1  2021-03-31  2021       Marzo   31  18:05:00   \n",
       "631  2021-0035                1  2021-05-03  2021        Mayo    3  09:20:00   \n",
       "638  2021-0042                1  2021-05-21  2021        Mayo   21  05:00:00   \n",
       "646  2021-0050                1  2021-06-10  2021       Junio   10  13:30:00   \n",
       "659  2021-0063                1  2021-08-02  2021      Agosto    2  04:40:00   \n",
       "666  2021-0070                1  2021-08-28  2021      Agosto   28  08:30:00   \n",
       "\n",
       "     Hora entera                                    Lugar del hecho  \\\n",
       "12          16.0                   MARIANO ACOSTA Y ANA MARIA JANER   \n",
       "15          23.0                        AV DIRECTORIO Y CURAPALIGUE   \n",
       "16           6.0                      AV 9 DE JULIO Y ADOLFO ALSINA   \n",
       "23          12.0                      AV AMANCIO ALCORTA Y BONAVENA   \n",
       "28           1.0                    BARTOLOME MITRE Y AV PUEYRREDON   \n",
       "40          21.0                   AU LUIS DELLEPIANE Y AV GRAL PAZ   \n",
       "49           3.0                   AV ENTRE RIOS Y PASAJE FILIBERTO   \n",
       "73          16.0                              AV SAN JUAN Y ALBERTI   \n",
       "77          23.0                    AV EVA PERON Y JOSE LEON SUAREZ   \n",
       "129          7.0                   AV GRAL PAZ Y AV GENERAL MOSCONI   \n",
       "139          1.0                       AV BELGRANO Y AV PASEO COLON   \n",
       "156          5.0                               SARMIENTO Y LIBERTAD   \n",
       "183          8.0                     AV. DE LOS CONSTITUYENTES 4900   \n",
       "195         14.0                     AV. GRAL. PAZ Y ULRICO SCHMIDL   \n",
       "210         10.0                                24 DE NOVIEMBRE 390   \n",
       "351          7.0               De Los Corrales Av. y Paz, Gral. Av.   \n",
       "360         16.0             Av. Gral. Paz y Av. Dr. Ricardo Balbín   \n",
       "373          0.0                           Paz, Gral. Av. y Zapiola   \n",
       "400          4.0                               Paz, Gral. Av. 11200   \n",
       "426          1.0        PAZ, GRAL. AV. Y ALBERDI, JUAN BAUTISTA AV.   \n",
       "461          9.0                                 GRAL PAZ Y CABILDO   \n",
       "490         18.0  AUTOPISTA 1 SUR PRESIDENTE ARTURO FRONDIZI ALT...   \n",
       "552          3.0  MITRE, BARTOLOME Y ANCHORENA, TOMAS MANUEL DE,...   \n",
       "559          1.0                       CURAPALIGUE Y PERON, EVA AV.   \n",
       "606          8.0         PAZ, GRAL. AV. Y BALBIN, RICARDO, DR. AV.    \n",
       "625         18.0          FALCON, RAMON L., CNEL. Y SAN PEDRITO AV.   \n",
       "631          9.0                    JANER, ANA MARIA Y LAFUENTE AV.   \n",
       "638          5.0                                RIVADAVIA AV. 10900   \n",
       "646         13.0                            DEL LIBERTADOR AV. 5958   \n",
       "659          4.0                    ALBERDI, JUAN BAUTISTA AV. 2906   \n",
       "666          8.0        CHILAVERT, MARTINIANO, CORONEL Y VARELA AV.   \n",
       "\n",
       "    Tipo de calle  ... Comuna                                XY (CABA)  \\\n",
       "12        AVENIDA  ...      8   Point (101228.61094416 96623.72136186)   \n",
       "15        AVENIDA  ...      7   Point (101074.94198885 99848.19369046)   \n",
       "16        AVENIDA  ...      1  Point (107507.39502374 102046.08333077)   \n",
       "23        AVENIDA  ...      4   Point (105230.98315750 97613.97258373)   \n",
       "28        AVENIDA  ...      3  Point (105252.60308563 102264.96028996)   \n",
       "40      AUTOPISTA  ...      8    Point (97832.57143731 93489.83736533)   \n",
       "49        AVENIDA  ...      3  Point (106612.54991859 100244.75667446)   \n",
       "73        AVENIDA  ...      3  Point (105765.97394356 100631.47718024)   \n",
       "77        AVENIDA  ...      9    Point (96625.80612216 95129.90776954)   \n",
       "129      GRAL PAZ  ...     11   Point (94486.28631712 103468.59928582)   \n",
       "139       AVENIDA  ...      1  Point (108597.31948169 101875.41306445)   \n",
       "156         CALLE  ...      1  Point (107308.24054153 102678.45528316)   \n",
       "183       AVENIDA  ...     12   Point (97032.68537217 105507.05805581)   \n",
       "195      GRAL PAZ  ...      9    Point (94644.00300729 96592.22735507)   \n",
       "210         CALLE  ...      3  Point (104800.65774098 101563.94663965)   \n",
       "351      GRAL PAZ  ...      9    Point (95832.05571093 95505.41641999)   \n",
       "360      GRAL PAZ  ...     12   Point (96563.66494817 108815.73881056)   \n",
       "373      GRAL PAZ  ...     12   Point (98376.44189669 109821.71138325)   \n",
       "400      GRAL PAZ  ...      9    Point (94027.41355272 98150.01779732)   \n",
       "426      GRAL PAZ  ...      9    Point (94949.53051500 96309.49139706)   \n",
       "461      GRAL PAZ  ...     13   Point (98817.74986778 110096.31367495)   \n",
       "490     AUTOPISTA  ...      4   Point (108408.31866027 97219.56223456)   \n",
       "552         CALLE  ...      3  Point (104725.24275395 102222.75498861)   \n",
       "559       AVENIDA  ...      7   Point (101448.28844783 99373.44893645)   \n",
       "606      GRAL PAZ  ...     12   Point (96563.66494817 108815.73881056)   \n",
       "625       AVENIDA  ...      7    Point (99478.13530470 99680.01615001)   \n",
       "631       AVENIDA  ...      8   Point (101547.14246919 96946.08308197)   \n",
       "638       AVENIDA  ...      9    Point (95040.52119933 98883.98738744)   \n",
       "646       AVENIDA  ...     13  Point (101448.53024105 107994.96785043)   \n",
       "659       AVENIDA  ...      7    Point (99521.99764944 99532.20302798)   \n",
       "666       AVENIDA  ...      8   Point (102171.86474787 97177.81588434)   \n",
       "\n",
       "         POS X      POS Y     Participantes  Víctima    Acusado  \\\n",
       "12  -58.449897 -34.659704       PEATON-MOTO   PEATON       MOTO   \n",
       "15  -58.451577 -34.630638         AUTO-AUTO     AUTO       AUTO   \n",
       "16  -58.381447 -34.610799         MOTO-AUTO     MOTO       AUTO   \n",
       "23  -58.406239 -34.650765  PEATON-PASAJEROS   PEATON  PASAJEROS   \n",
       "28  -58.406032 -34.608840    MOTO-PASAJEROS     MOTO  PASAJEROS   \n",
       "40  -58.486954 -34.687952         MOTO-MOTO     MOTO       MOTO   \n",
       "49  -58.391189 -34.627043       AUTO-CARGAS     AUTO     CARGAS   \n",
       "73  -58.400424 -34.623562       MOTO-CARGAS     MOTO     CARGAS   \n",
       "77  -58.500116 -34.673165       MOTO-CARGAS     MOTO     CARGAS   \n",
       "129 -58.523406 -34.597988         MOTO-AUTO     MOTO       AUTO   \n",
       "139 -58.369562 -34.612329    MOTO-PASAJEROS     MOTO  PASAJEROS   \n",
       "156 -58.383624 -34.605100    MOTO-PASAJEROS     MOTO  PASAJEROS   \n",
       "183 -58.495640 -34.579623         AUTO-AUTO     AUTO       AUTO   \n",
       "195 -58.521731 -34.659975           MOTO-SD     MOTO         SD   \n",
       "210 -58.410956 -34.615161       PEATON-AUTO   PEATON       AUTO   \n",
       "351 -58.508775 -34.669777     PEATON-CARGAS   PEATON     CARGAS   \n",
       "360 -58.500738 -34.549795       MOTO-CARGAS     MOTO     CARGAS   \n",
       "373 -58.480986 -34.540731          MULTIPLE     AUTO   MULTIPLE   \n",
       "400 -58.528446 -34.645929    AUTO-PASAJEROS     AUTO  PASAJEROS   \n",
       "426 -58.518399 -34.662525       PEATON-AUTO   PEATON       AUTO   \n",
       "461 -58.476178 -34.538257         MOTO-AUTO     MOTO       AUTO   \n",
       "490 -58.371577 -34.654300       MOTO-CARGAS     MOTO     CARGAS   \n",
       "552 -58.411782 -34.609223       PEATON-AUTO   PEATON       AUTO   \n",
       "559 -58.447505 -34.634917    MOTO-PASAJEROS     MOTO  PASAJEROS   \n",
       "606 -58.500738 -34.549795         MOTO-AUTO     MOTO       AUTO   \n",
       "625 -58.468991 -34.632154         AUTO-AUTO     AUTO       AUTO   \n",
       "631 -58.446422 -34.656798       MOTO-CARGAS     MOTO     CARGAS   \n",
       "638 -58.517391 -34.639318  PEATON-PASAJEROS   PEATON  PASAJEROS   \n",
       "646 -58.447516 -34.557199    MOTO-PASAJEROS     MOTO  PASAJEROS   \n",
       "659 -58.468513 -34.633487         AUTO-AUTO     AUTO       AUTO   \n",
       "666 -58.439608 -34.654708       MOTO-CARGAS     MOTO     CARGAS   \n",
       "\n",
       "    Día de la Semana    Tipo de Día Barrio  \n",
       "12             Lunes  Día de Semana         \n",
       "15         Miércoles  Día de Semana         \n",
       "16           Domingo  Fin de Semana         \n",
       "23            Sábado  Fin de Semana         \n",
       "28         Miércoles  Día de Semana         \n",
       "40            Sábado  Fin de Semana         \n",
       "49             Lunes  Día de Semana         \n",
       "73         Miércoles  Día de Semana         \n",
       "77         Miércoles  Día de Semana         \n",
       "129           Sábado  Fin de Semana         \n",
       "139        Miércoles  Día de Semana         \n",
       "156           Sábado  Fin de Semana         \n",
       "183           Martes  Día de Semana         \n",
       "195        Miércoles  Día de Semana         \n",
       "210            Lunes  Día de Semana         \n",
       "351            Lunes  Día de Semana         \n",
       "360          Viernes  Día de Semana         \n",
       "373          Viernes  Día de Semana         \n",
       "400          Domingo  Fin de Semana         \n",
       "426          Domingo  Fin de Semana         \n",
       "461           Martes  Día de Semana         \n",
       "490           Jueves  Día de Semana         \n",
       "552          Domingo  Fin de Semana         \n",
       "559            Lunes  Día de Semana         \n",
       "606           Sábado  Fin de Semana         \n",
       "625        Miércoles  Día de Semana         \n",
       "631            Lunes  Día de Semana         \n",
       "638          Viernes  Día de Semana         \n",
       "646           Jueves  Día de Semana         \n",
       "659            Lunes  Día de Semana         \n",
       "666           Sábado  Fin de Semana         \n",
       "\n",
       "[31 rows x 23 columns]"
      ],
      "text/html": [
       "<div>\n",
       "<style scoped>\n",
       "    .dataframe tbody tr th:only-of-type {\n",
       "        vertical-align: middle;\n",
       "    }\n",
       "\n",
       "    .dataframe tbody tr th {\n",
       "        vertical-align: top;\n",
       "    }\n",
       "\n",
       "    .dataframe thead th {\n",
       "        text-align: right;\n",
       "    }\n",
       "</style>\n",
       "<table border=\"1\" class=\"dataframe\">\n",
       "  <thead>\n",
       "    <tr style=\"text-align: right;\">\n",
       "      <th></th>\n",
       "      <th>Id Hecho</th>\n",
       "      <th>Nro de víctimas</th>\n",
       "      <th>Fecha</th>\n",
       "      <th>Año</th>\n",
       "      <th>Mes</th>\n",
       "      <th>Día</th>\n",
       "      <th>Hora</th>\n",
       "      <th>Hora entera</th>\n",
       "      <th>Lugar del hecho</th>\n",
       "      <th>Tipo de calle</th>\n",
       "      <th>...</th>\n",
       "      <th>Comuna</th>\n",
       "      <th>XY (CABA)</th>\n",
       "      <th>POS X</th>\n",
       "      <th>POS Y</th>\n",
       "      <th>Participantes</th>\n",
       "      <th>Víctima</th>\n",
       "      <th>Acusado</th>\n",
       "      <th>Día de la Semana</th>\n",
       "      <th>Tipo de Día</th>\n",
       "      <th>Barrio</th>\n",
       "    </tr>\n",
       "  </thead>\n",
       "  <tbody>\n",
       "    <tr>\n",
       "      <th>12</th>\n",
       "      <td>2016-0017</td>\n",
       "      <td>1</td>\n",
       "      <td>2016-02-15</td>\n",
       "      <td>2016</td>\n",
       "      <td>Febrero</td>\n",
       "      <td>15</td>\n",
       "      <td>16:54:00</td>\n",
       "      <td>16.0</td>\n",
       "      <td>MARIANO ACOSTA Y ANA MARIA JANER</td>\n",
       "      <td>AVENIDA</td>\n",
       "      <td>...</td>\n",
       "      <td>8</td>\n",
       "      <td>Point (101228.61094416 96623.72136186)</td>\n",
       "      <td>-58.449897</td>\n",
       "      <td>-34.659704</td>\n",
       "      <td>PEATON-MOTO</td>\n",
       "      <td>PEATON</td>\n",
       "      <td>MOTO</td>\n",
       "      <td>Lunes</td>\n",
       "      <td>Día de Semana</td>\n",
       "      <td></td>\n",
       "    </tr>\n",
       "    <tr>\n",
       "      <th>15</th>\n",
       "      <td>2016-0021</td>\n",
       "      <td>1</td>\n",
       "      <td>2016-02-17</td>\n",
       "      <td>2016</td>\n",
       "      <td>Febrero</td>\n",
       "      <td>17</td>\n",
       "      <td>23:35:00</td>\n",
       "      <td>23.0</td>\n",
       "      <td>AV DIRECTORIO Y CURAPALIGUE</td>\n",
       "      <td>AVENIDA</td>\n",
       "      <td>...</td>\n",
       "      <td>7</td>\n",
       "      <td>Point (101074.94198885 99848.19369046)</td>\n",
       "      <td>-58.451577</td>\n",
       "      <td>-34.630638</td>\n",
       "      <td>AUTO-AUTO</td>\n",
       "      <td>AUTO</td>\n",
       "      <td>AUTO</td>\n",
       "      <td>Miércoles</td>\n",
       "      <td>Día de Semana</td>\n",
       "      <td></td>\n",
       "    </tr>\n",
       "    <tr>\n",
       "      <th>16</th>\n",
       "      <td>2016-0022</td>\n",
       "      <td>1</td>\n",
       "      <td>2016-02-21</td>\n",
       "      <td>2016</td>\n",
       "      <td>Febrero</td>\n",
       "      <td>21</td>\n",
       "      <td>06:00:00</td>\n",
       "      <td>6.0</td>\n",
       "      <td>AV 9 DE JULIO Y ADOLFO ALSINA</td>\n",
       "      <td>AVENIDA</td>\n",
       "      <td>...</td>\n",
       "      <td>1</td>\n",
       "      <td>Point (107507.39502374 102046.08333077)</td>\n",
       "      <td>-58.381447</td>\n",
       "      <td>-34.610799</td>\n",
       "      <td>MOTO-AUTO</td>\n",
       "      <td>MOTO</td>\n",
       "      <td>AUTO</td>\n",
       "      <td>Domingo</td>\n",
       "      <td>Fin de Semana</td>\n",
       "      <td></td>\n",
       "    </tr>\n",
       "    <tr>\n",
       "      <th>23</th>\n",
       "      <td>2016-0034</td>\n",
       "      <td>1</td>\n",
       "      <td>2016-03-12</td>\n",
       "      <td>2016</td>\n",
       "      <td>Marzo</td>\n",
       "      <td>12</td>\n",
       "      <td>12:30:00</td>\n",
       "      <td>12.0</td>\n",
       "      <td>AV AMANCIO ALCORTA Y BONAVENA</td>\n",
       "      <td>AVENIDA</td>\n",
       "      <td>...</td>\n",
       "      <td>4</td>\n",
       "      <td>Point (105230.98315750 97613.97258373)</td>\n",
       "      <td>-58.406239</td>\n",
       "      <td>-34.650765</td>\n",
       "      <td>PEATON-PASAJEROS</td>\n",
       "      <td>PEATON</td>\n",
       "      <td>PASAJEROS</td>\n",
       "      <td>Sábado</td>\n",
       "      <td>Fin de Semana</td>\n",
       "      <td></td>\n",
       "    </tr>\n",
       "    <tr>\n",
       "      <th>28</th>\n",
       "      <td>2016-0039</td>\n",
       "      <td>1</td>\n",
       "      <td>2016-03-23</td>\n",
       "      <td>2016</td>\n",
       "      <td>Marzo</td>\n",
       "      <td>23</td>\n",
       "      <td>01:50:00</td>\n",
       "      <td>1.0</td>\n",
       "      <td>BARTOLOME MITRE Y AV PUEYRREDON</td>\n",
       "      <td>AVENIDA</td>\n",
       "      <td>...</td>\n",
       "      <td>3</td>\n",
       "      <td>Point (105252.60308563 102264.96028996)</td>\n",
       "      <td>-58.406032</td>\n",
       "      <td>-34.608840</td>\n",
       "      <td>MOTO-PASAJEROS</td>\n",
       "      <td>MOTO</td>\n",
       "      <td>PASAJEROS</td>\n",
       "      <td>Miércoles</td>\n",
       "      <td>Día de Semana</td>\n",
       "      <td></td>\n",
       "    </tr>\n",
       "    <tr>\n",
       "      <th>40</th>\n",
       "      <td>2016-0054</td>\n",
       "      <td>1</td>\n",
       "      <td>2016-04-23</td>\n",
       "      <td>2016</td>\n",
       "      <td>Abril</td>\n",
       "      <td>23</td>\n",
       "      <td>21:00:00</td>\n",
       "      <td>21.0</td>\n",
       "      <td>AU LUIS DELLEPIANE Y AV GRAL PAZ</td>\n",
       "      <td>AUTOPISTA</td>\n",
       "      <td>...</td>\n",
       "      <td>8</td>\n",
       "      <td>Point (97832.57143731 93489.83736533)</td>\n",
       "      <td>-58.486954</td>\n",
       "      <td>-34.687952</td>\n",
       "      <td>MOTO-MOTO</td>\n",
       "      <td>MOTO</td>\n",
       "      <td>MOTO</td>\n",
       "      <td>Sábado</td>\n",
       "      <td>Fin de Semana</td>\n",
       "      <td></td>\n",
       "    </tr>\n",
       "    <tr>\n",
       "      <th>49</th>\n",
       "      <td>2016-0069</td>\n",
       "      <td>1</td>\n",
       "      <td>2016-05-23</td>\n",
       "      <td>2016</td>\n",
       "      <td>Mayo</td>\n",
       "      <td>23</td>\n",
       "      <td>03:30:00</td>\n",
       "      <td>3.0</td>\n",
       "      <td>AV ENTRE RIOS Y PASAJE FILIBERTO</td>\n",
       "      <td>AVENIDA</td>\n",
       "      <td>...</td>\n",
       "      <td>3</td>\n",
       "      <td>Point (106612.54991859 100244.75667446)</td>\n",
       "      <td>-58.391189</td>\n",
       "      <td>-34.627043</td>\n",
       "      <td>AUTO-CARGAS</td>\n",
       "      <td>AUTO</td>\n",
       "      <td>CARGAS</td>\n",
       "      <td>Lunes</td>\n",
       "      <td>Día de Semana</td>\n",
       "      <td></td>\n",
       "    </tr>\n",
       "    <tr>\n",
       "      <th>73</th>\n",
       "      <td>2016-0098</td>\n",
       "      <td>1</td>\n",
       "      <td>2016-07-27</td>\n",
       "      <td>2016</td>\n",
       "      <td>Julio</td>\n",
       "      <td>27</td>\n",
       "      <td>16:08:00</td>\n",
       "      <td>16.0</td>\n",
       "      <td>AV SAN JUAN Y ALBERTI</td>\n",
       "      <td>AVENIDA</td>\n",
       "      <td>...</td>\n",
       "      <td>3</td>\n",
       "      <td>Point (105765.97394356 100631.47718024)</td>\n",
       "      <td>-58.400424</td>\n",
       "      <td>-34.623562</td>\n",
       "      <td>MOTO-CARGAS</td>\n",
       "      <td>MOTO</td>\n",
       "      <td>CARGAS</td>\n",
       "      <td>Miércoles</td>\n",
       "      <td>Día de Semana</td>\n",
       "      <td></td>\n",
       "    </tr>\n",
       "    <tr>\n",
       "      <th>77</th>\n",
       "      <td>2016-0102</td>\n",
       "      <td>1</td>\n",
       "      <td>2016-08-10</td>\n",
       "      <td>2016</td>\n",
       "      <td>Agosto</td>\n",
       "      <td>10</td>\n",
       "      <td>23:37:00</td>\n",
       "      <td>23.0</td>\n",
       "      <td>AV EVA PERON Y JOSE LEON SUAREZ</td>\n",
       "      <td>AVENIDA</td>\n",
       "      <td>...</td>\n",
       "      <td>9</td>\n",
       "      <td>Point (96625.80612216 95129.90776954)</td>\n",
       "      <td>-58.500116</td>\n",
       "      <td>-34.673165</td>\n",
       "      <td>MOTO-CARGAS</td>\n",
       "      <td>MOTO</td>\n",
       "      <td>CARGAS</td>\n",
       "      <td>Miércoles</td>\n",
       "      <td>Día de Semana</td>\n",
       "      <td></td>\n",
       "    </tr>\n",
       "    <tr>\n",
       "      <th>129</th>\n",
       "      <td>2016-0163</td>\n",
       "      <td>1</td>\n",
       "      <td>2016-12-10</td>\n",
       "      <td>2016</td>\n",
       "      <td>Diciembre</td>\n",
       "      <td>10</td>\n",
       "      <td>07:30:00</td>\n",
       "      <td>7.0</td>\n",
       "      <td>AV GRAL PAZ Y AV GENERAL MOSCONI</td>\n",
       "      <td>GRAL PAZ</td>\n",
       "      <td>...</td>\n",
       "      <td>11</td>\n",
       "      <td>Point (94486.28631712 103468.59928582)</td>\n",
       "      <td>-58.523406</td>\n",
       "      <td>-34.597988</td>\n",
       "      <td>MOTO-AUTO</td>\n",
       "      <td>MOTO</td>\n",
       "      <td>AUTO</td>\n",
       "      <td>Sábado</td>\n",
       "      <td>Fin de Semana</td>\n",
       "      <td></td>\n",
       "    </tr>\n",
       "    <tr>\n",
       "      <th>139</th>\n",
       "      <td>2016-0176</td>\n",
       "      <td>1</td>\n",
       "      <td>2016-12-28</td>\n",
       "      <td>2016</td>\n",
       "      <td>Diciembre</td>\n",
       "      <td>28</td>\n",
       "      <td>01:41:00</td>\n",
       "      <td>1.0</td>\n",
       "      <td>AV BELGRANO Y AV PASEO COLON</td>\n",
       "      <td>AVENIDA</td>\n",
       "      <td>...</td>\n",
       "      <td>1</td>\n",
       "      <td>Point (108597.31948169 101875.41306445)</td>\n",
       "      <td>-58.369562</td>\n",
       "      <td>-34.612329</td>\n",
       "      <td>MOTO-PASAJEROS</td>\n",
       "      <td>MOTO</td>\n",
       "      <td>PASAJEROS</td>\n",
       "      <td>Miércoles</td>\n",
       "      <td>Día de Semana</td>\n",
       "      <td></td>\n",
       "    </tr>\n",
       "    <tr>\n",
       "      <th>156</th>\n",
       "      <td>2017-0021</td>\n",
       "      <td>1</td>\n",
       "      <td>2017-02-18</td>\n",
       "      <td>2017</td>\n",
       "      <td>Febrero</td>\n",
       "      <td>18</td>\n",
       "      <td>05:30:00</td>\n",
       "      <td>5.0</td>\n",
       "      <td>SARMIENTO Y LIBERTAD</td>\n",
       "      <td>CALLE</td>\n",
       "      <td>...</td>\n",
       "      <td>1</td>\n",
       "      <td>Point (107308.24054153 102678.45528316)</td>\n",
       "      <td>-58.383624</td>\n",
       "      <td>-34.605100</td>\n",
       "      <td>MOTO-PASAJEROS</td>\n",
       "      <td>MOTO</td>\n",
       "      <td>PASAJEROS</td>\n",
       "      <td>Sábado</td>\n",
       "      <td>Fin de Semana</td>\n",
       "      <td></td>\n",
       "    </tr>\n",
       "    <tr>\n",
       "      <th>183</th>\n",
       "      <td>2017-0055</td>\n",
       "      <td>1</td>\n",
       "      <td>2017-05-09</td>\n",
       "      <td>2017</td>\n",
       "      <td>Mayo</td>\n",
       "      <td>9</td>\n",
       "      <td>08:30:00</td>\n",
       "      <td>8.0</td>\n",
       "      <td>AV. DE LOS CONSTITUYENTES 4900</td>\n",
       "      <td>AVENIDA</td>\n",
       "      <td>...</td>\n",
       "      <td>12</td>\n",
       "      <td>Point (97032.68537217 105507.05805581)</td>\n",
       "      <td>-58.495640</td>\n",
       "      <td>-34.579623</td>\n",
       "      <td>AUTO-AUTO</td>\n",
       "      <td>AUTO</td>\n",
       "      <td>AUTO</td>\n",
       "      <td>Martes</td>\n",
       "      <td>Día de Semana</td>\n",
       "      <td></td>\n",
       "    </tr>\n",
       "    <tr>\n",
       "      <th>195</th>\n",
       "      <td>2017-0069</td>\n",
       "      <td>1</td>\n",
       "      <td>2017-05-24</td>\n",
       "      <td>2017</td>\n",
       "      <td>Mayo</td>\n",
       "      <td>24</td>\n",
       "      <td>14:15:00</td>\n",
       "      <td>14.0</td>\n",
       "      <td>AV. GRAL. PAZ Y ULRICO SCHMIDL</td>\n",
       "      <td>GRAL PAZ</td>\n",
       "      <td>...</td>\n",
       "      <td>9</td>\n",
       "      <td>Point (94644.00300729 96592.22735507)</td>\n",
       "      <td>-58.521731</td>\n",
       "      <td>-34.659975</td>\n",
       "      <td>MOTO-SD</td>\n",
       "      <td>MOTO</td>\n",
       "      <td>SD</td>\n",
       "      <td>Miércoles</td>\n",
       "      <td>Día de Semana</td>\n",
       "      <td></td>\n",
       "    </tr>\n",
       "    <tr>\n",
       "      <th>210</th>\n",
       "      <td>2017-0087</td>\n",
       "      <td>1</td>\n",
       "      <td>2017-07-10</td>\n",
       "      <td>2017</td>\n",
       "      <td>Julio</td>\n",
       "      <td>10</td>\n",
       "      <td>10:45:00</td>\n",
       "      <td>10.0</td>\n",
       "      <td>24 DE NOVIEMBRE 390</td>\n",
       "      <td>CALLE</td>\n",
       "      <td>...</td>\n",
       "      <td>3</td>\n",
       "      <td>Point (104800.65774098 101563.94663965)</td>\n",
       "      <td>-58.410956</td>\n",
       "      <td>-34.615161</td>\n",
       "      <td>PEATON-AUTO</td>\n",
       "      <td>PEATON</td>\n",
       "      <td>AUTO</td>\n",
       "      <td>Lunes</td>\n",
       "      <td>Día de Semana</td>\n",
       "      <td></td>\n",
       "    </tr>\n",
       "    <tr>\n",
       "      <th>351</th>\n",
       "      <td>2018-0079</td>\n",
       "      <td>1</td>\n",
       "      <td>2018-07-23</td>\n",
       "      <td>2018</td>\n",
       "      <td>Julio</td>\n",
       "      <td>23</td>\n",
       "      <td>07:15:00</td>\n",
       "      <td>7.0</td>\n",
       "      <td>De Los Corrales Av. y Paz, Gral. Av.</td>\n",
       "      <td>GRAL PAZ</td>\n",
       "      <td>...</td>\n",
       "      <td>9</td>\n",
       "      <td>Point (95832.05571093 95505.41641999)</td>\n",
       "      <td>-58.508775</td>\n",
       "      <td>-34.669777</td>\n",
       "      <td>PEATON-CARGAS</td>\n",
       "      <td>PEATON</td>\n",
       "      <td>CARGAS</td>\n",
       "      <td>Lunes</td>\n",
       "      <td>Día de Semana</td>\n",
       "      <td></td>\n",
       "    </tr>\n",
       "    <tr>\n",
       "      <th>360</th>\n",
       "      <td>2018-0088</td>\n",
       "      <td>1</td>\n",
       "      <td>2018-08-17</td>\n",
       "      <td>2018</td>\n",
       "      <td>Agosto</td>\n",
       "      <td>17</td>\n",
       "      <td>16:36:00</td>\n",
       "      <td>16.0</td>\n",
       "      <td>Av. Gral. Paz y Av. Dr. Ricardo Balbín</td>\n",
       "      <td>GRAL PAZ</td>\n",
       "      <td>...</td>\n",
       "      <td>12</td>\n",
       "      <td>Point (96563.66494817 108815.73881056)</td>\n",
       "      <td>-58.500738</td>\n",
       "      <td>-34.549795</td>\n",
       "      <td>MOTO-CARGAS</td>\n",
       "      <td>MOTO</td>\n",
       "      <td>CARGAS</td>\n",
       "      <td>Viernes</td>\n",
       "      <td>Día de Semana</td>\n",
       "      <td></td>\n",
       "    </tr>\n",
       "    <tr>\n",
       "      <th>373</th>\n",
       "      <td>2018-0101</td>\n",
       "      <td>1</td>\n",
       "      <td>2018-09-21</td>\n",
       "      <td>2018</td>\n",
       "      <td>Septiembre</td>\n",
       "      <td>21</td>\n",
       "      <td>00:15:00</td>\n",
       "      <td>0.0</td>\n",
       "      <td>Paz, Gral. Av. y Zapiola</td>\n",
       "      <td>GRAL PAZ</td>\n",
       "      <td>...</td>\n",
       "      <td>12</td>\n",
       "      <td>Point (98376.44189669 109821.71138325)</td>\n",
       "      <td>-58.480986</td>\n",
       "      <td>-34.540731</td>\n",
       "      <td>MULTIPLE</td>\n",
       "      <td>AUTO</td>\n",
       "      <td>MULTIPLE</td>\n",
       "      <td>Viernes</td>\n",
       "      <td>Día de Semana</td>\n",
       "      <td></td>\n",
       "    </tr>\n",
       "    <tr>\n",
       "      <th>400</th>\n",
       "      <td>2018-0128</td>\n",
       "      <td>2</td>\n",
       "      <td>2018-11-25</td>\n",
       "      <td>2018</td>\n",
       "      <td>Noviembre</td>\n",
       "      <td>25</td>\n",
       "      <td>04:30:00</td>\n",
       "      <td>4.0</td>\n",
       "      <td>Paz, Gral. Av. 11200</td>\n",
       "      <td>GRAL PAZ</td>\n",
       "      <td>...</td>\n",
       "      <td>9</td>\n",
       "      <td>Point (94027.41355272 98150.01779732)</td>\n",
       "      <td>-58.528446</td>\n",
       "      <td>-34.645929</td>\n",
       "      <td>AUTO-PASAJEROS</td>\n",
       "      <td>AUTO</td>\n",
       "      <td>PASAJEROS</td>\n",
       "      <td>Domingo</td>\n",
       "      <td>Fin de Semana</td>\n",
       "      <td></td>\n",
       "    </tr>\n",
       "    <tr>\n",
       "      <th>426</th>\n",
       "      <td>2019-0011</td>\n",
       "      <td>1</td>\n",
       "      <td>2019-02-10</td>\n",
       "      <td>2019</td>\n",
       "      <td>Febrero</td>\n",
       "      <td>10</td>\n",
       "      <td>01:00:00</td>\n",
       "      <td>1.0</td>\n",
       "      <td>PAZ, GRAL. AV. Y ALBERDI, JUAN BAUTISTA AV.</td>\n",
       "      <td>GRAL PAZ</td>\n",
       "      <td>...</td>\n",
       "      <td>9</td>\n",
       "      <td>Point (94949.53051500 96309.49139706)</td>\n",
       "      <td>-58.518399</td>\n",
       "      <td>-34.662525</td>\n",
       "      <td>PEATON-AUTO</td>\n",
       "      <td>PEATON</td>\n",
       "      <td>AUTO</td>\n",
       "      <td>Domingo</td>\n",
       "      <td>Fin de Semana</td>\n",
       "      <td></td>\n",
       "    </tr>\n",
       "    <tr>\n",
       "      <th>461</th>\n",
       "      <td>2019-0046</td>\n",
       "      <td>1</td>\n",
       "      <td>2019-06-04</td>\n",
       "      <td>2019</td>\n",
       "      <td>Junio</td>\n",
       "      <td>4</td>\n",
       "      <td>09:00:00</td>\n",
       "      <td>9.0</td>\n",
       "      <td>GRAL PAZ Y CABILDO</td>\n",
       "      <td>GRAL PAZ</td>\n",
       "      <td>...</td>\n",
       "      <td>13</td>\n",
       "      <td>Point (98817.74986778 110096.31367495)</td>\n",
       "      <td>-58.476178</td>\n",
       "      <td>-34.538257</td>\n",
       "      <td>MOTO-AUTO</td>\n",
       "      <td>MOTO</td>\n",
       "      <td>AUTO</td>\n",
       "      <td>Martes</td>\n",
       "      <td>Día de Semana</td>\n",
       "      <td></td>\n",
       "    </tr>\n",
       "    <tr>\n",
       "      <th>490</th>\n",
       "      <td>2019-0076</td>\n",
       "      <td>1</td>\n",
       "      <td>2019-09-05</td>\n",
       "      <td>2019</td>\n",
       "      <td>Septiembre</td>\n",
       "      <td>5</td>\n",
       "      <td>18:00:00</td>\n",
       "      <td>18.0</td>\n",
       "      <td>AUTOPISTA 1 SUR PRESIDENTE ARTURO FRONDIZI ALT...</td>\n",
       "      <td>AUTOPISTA</td>\n",
       "      <td>...</td>\n",
       "      <td>4</td>\n",
       "      <td>Point (108408.31866027 97219.56223456)</td>\n",
       "      <td>-58.371577</td>\n",
       "      <td>-34.654300</td>\n",
       "      <td>MOTO-CARGAS</td>\n",
       "      <td>MOTO</td>\n",
       "      <td>CARGAS</td>\n",
       "      <td>Jueves</td>\n",
       "      <td>Día de Semana</td>\n",
       "      <td></td>\n",
       "    </tr>\n",
       "    <tr>\n",
       "      <th>552</th>\n",
       "      <td>2020-0034</td>\n",
       "      <td>1</td>\n",
       "      <td>2020-08-02</td>\n",
       "      <td>2020</td>\n",
       "      <td>Agosto</td>\n",
       "      <td>2</td>\n",
       "      <td>03:20:00</td>\n",
       "      <td>3.0</td>\n",
       "      <td>MITRE, BARTOLOME Y ANCHORENA, TOMAS MANUEL DE,...</td>\n",
       "      <td>CALLE</td>\n",
       "      <td>...</td>\n",
       "      <td>3</td>\n",
       "      <td>Point (104725.24275395 102222.75498861)</td>\n",
       "      <td>-58.411782</td>\n",
       "      <td>-34.609223</td>\n",
       "      <td>PEATON-AUTO</td>\n",
       "      <td>PEATON</td>\n",
       "      <td>AUTO</td>\n",
       "      <td>Domingo</td>\n",
       "      <td>Fin de Semana</td>\n",
       "      <td></td>\n",
       "    </tr>\n",
       "    <tr>\n",
       "      <th>559</th>\n",
       "      <td>2020-0041</td>\n",
       "      <td>1</td>\n",
       "      <td>2020-09-28</td>\n",
       "      <td>2020</td>\n",
       "      <td>Septiembre</td>\n",
       "      <td>28</td>\n",
       "      <td>01:45:00</td>\n",
       "      <td>1.0</td>\n",
       "      <td>CURAPALIGUE Y PERON, EVA AV.</td>\n",
       "      <td>AVENIDA</td>\n",
       "      <td>...</td>\n",
       "      <td>7</td>\n",
       "      <td>Point (101448.28844783 99373.44893645)</td>\n",
       "      <td>-58.447505</td>\n",
       "      <td>-34.634917</td>\n",
       "      <td>MOTO-PASAJEROS</td>\n",
       "      <td>MOTO</td>\n",
       "      <td>PASAJEROS</td>\n",
       "      <td>Lunes</td>\n",
       "      <td>Día de Semana</td>\n",
       "      <td></td>\n",
       "    </tr>\n",
       "    <tr>\n",
       "      <th>606</th>\n",
       "      <td>2021-0010</td>\n",
       "      <td>1</td>\n",
       "      <td>2021-01-23</td>\n",
       "      <td>2021</td>\n",
       "      <td>Enero</td>\n",
       "      <td>23</td>\n",
       "      <td>08:00:00</td>\n",
       "      <td>8.0</td>\n",
       "      <td>PAZ, GRAL. AV. Y BALBIN, RICARDO, DR. AV.</td>\n",
       "      <td>GRAL PAZ</td>\n",
       "      <td>...</td>\n",
       "      <td>12</td>\n",
       "      <td>Point (96563.66494817 108815.73881056)</td>\n",
       "      <td>-58.500738</td>\n",
       "      <td>-34.549795</td>\n",
       "      <td>MOTO-AUTO</td>\n",
       "      <td>MOTO</td>\n",
       "      <td>AUTO</td>\n",
       "      <td>Sábado</td>\n",
       "      <td>Fin de Semana</td>\n",
       "      <td></td>\n",
       "    </tr>\n",
       "    <tr>\n",
       "      <th>625</th>\n",
       "      <td>2021-0029</td>\n",
       "      <td>1</td>\n",
       "      <td>2021-03-31</td>\n",
       "      <td>2021</td>\n",
       "      <td>Marzo</td>\n",
       "      <td>31</td>\n",
       "      <td>18:05:00</td>\n",
       "      <td>18.0</td>\n",
       "      <td>FALCON, RAMON L., CNEL. Y SAN PEDRITO AV.</td>\n",
       "      <td>AVENIDA</td>\n",
       "      <td>...</td>\n",
       "      <td>7</td>\n",
       "      <td>Point (99478.13530470 99680.01615001)</td>\n",
       "      <td>-58.468991</td>\n",
       "      <td>-34.632154</td>\n",
       "      <td>AUTO-AUTO</td>\n",
       "      <td>AUTO</td>\n",
       "      <td>AUTO</td>\n",
       "      <td>Miércoles</td>\n",
       "      <td>Día de Semana</td>\n",
       "      <td></td>\n",
       "    </tr>\n",
       "    <tr>\n",
       "      <th>631</th>\n",
       "      <td>2021-0035</td>\n",
       "      <td>1</td>\n",
       "      <td>2021-05-03</td>\n",
       "      <td>2021</td>\n",
       "      <td>Mayo</td>\n",
       "      <td>3</td>\n",
       "      <td>09:20:00</td>\n",
       "      <td>9.0</td>\n",
       "      <td>JANER, ANA MARIA Y LAFUENTE AV.</td>\n",
       "      <td>AVENIDA</td>\n",
       "      <td>...</td>\n",
       "      <td>8</td>\n",
       "      <td>Point (101547.14246919 96946.08308197)</td>\n",
       "      <td>-58.446422</td>\n",
       "      <td>-34.656798</td>\n",
       "      <td>MOTO-CARGAS</td>\n",
       "      <td>MOTO</td>\n",
       "      <td>CARGAS</td>\n",
       "      <td>Lunes</td>\n",
       "      <td>Día de Semana</td>\n",
       "      <td></td>\n",
       "    </tr>\n",
       "    <tr>\n",
       "      <th>638</th>\n",
       "      <td>2021-0042</td>\n",
       "      <td>1</td>\n",
       "      <td>2021-05-21</td>\n",
       "      <td>2021</td>\n",
       "      <td>Mayo</td>\n",
       "      <td>21</td>\n",
       "      <td>05:00:00</td>\n",
       "      <td>5.0</td>\n",
       "      <td>RIVADAVIA AV. 10900</td>\n",
       "      <td>AVENIDA</td>\n",
       "      <td>...</td>\n",
       "      <td>9</td>\n",
       "      <td>Point (95040.52119933 98883.98738744)</td>\n",
       "      <td>-58.517391</td>\n",
       "      <td>-34.639318</td>\n",
       "      <td>PEATON-PASAJEROS</td>\n",
       "      <td>PEATON</td>\n",
       "      <td>PASAJEROS</td>\n",
       "      <td>Viernes</td>\n",
       "      <td>Día de Semana</td>\n",
       "      <td></td>\n",
       "    </tr>\n",
       "    <tr>\n",
       "      <th>646</th>\n",
       "      <td>2021-0050</td>\n",
       "      <td>1</td>\n",
       "      <td>2021-06-10</td>\n",
       "      <td>2021</td>\n",
       "      <td>Junio</td>\n",
       "      <td>10</td>\n",
       "      <td>13:30:00</td>\n",
       "      <td>13.0</td>\n",
       "      <td>DEL LIBERTADOR AV. 5958</td>\n",
       "      <td>AVENIDA</td>\n",
       "      <td>...</td>\n",
       "      <td>13</td>\n",
       "      <td>Point (101448.53024105 107994.96785043)</td>\n",
       "      <td>-58.447516</td>\n",
       "      <td>-34.557199</td>\n",
       "      <td>MOTO-PASAJEROS</td>\n",
       "      <td>MOTO</td>\n",
       "      <td>PASAJEROS</td>\n",
       "      <td>Jueves</td>\n",
       "      <td>Día de Semana</td>\n",
       "      <td></td>\n",
       "    </tr>\n",
       "    <tr>\n",
       "      <th>659</th>\n",
       "      <td>2021-0063</td>\n",
       "      <td>1</td>\n",
       "      <td>2021-08-02</td>\n",
       "      <td>2021</td>\n",
       "      <td>Agosto</td>\n",
       "      <td>2</td>\n",
       "      <td>04:40:00</td>\n",
       "      <td>4.0</td>\n",
       "      <td>ALBERDI, JUAN BAUTISTA AV. 2906</td>\n",
       "      <td>AVENIDA</td>\n",
       "      <td>...</td>\n",
       "      <td>7</td>\n",
       "      <td>Point (99521.99764944 99532.20302798)</td>\n",
       "      <td>-58.468513</td>\n",
       "      <td>-34.633487</td>\n",
       "      <td>AUTO-AUTO</td>\n",
       "      <td>AUTO</td>\n",
       "      <td>AUTO</td>\n",
       "      <td>Lunes</td>\n",
       "      <td>Día de Semana</td>\n",
       "      <td></td>\n",
       "    </tr>\n",
       "    <tr>\n",
       "      <th>666</th>\n",
       "      <td>2021-0070</td>\n",
       "      <td>1</td>\n",
       "      <td>2021-08-28</td>\n",
       "      <td>2021</td>\n",
       "      <td>Agosto</td>\n",
       "      <td>28</td>\n",
       "      <td>08:30:00</td>\n",
       "      <td>8.0</td>\n",
       "      <td>CHILAVERT, MARTINIANO, CORONEL Y VARELA AV.</td>\n",
       "      <td>AVENIDA</td>\n",
       "      <td>...</td>\n",
       "      <td>8</td>\n",
       "      <td>Point (102171.86474787 97177.81588434)</td>\n",
       "      <td>-58.439608</td>\n",
       "      <td>-34.654708</td>\n",
       "      <td>MOTO-CARGAS</td>\n",
       "      <td>MOTO</td>\n",
       "      <td>CARGAS</td>\n",
       "      <td>Sábado</td>\n",
       "      <td>Fin de Semana</td>\n",
       "      <td></td>\n",
       "    </tr>\n",
       "  </tbody>\n",
       "</table>\n",
       "<p>31 rows × 23 columns</p>\n",
       "</div>"
      ]
     },
     "execution_count": 45,
     "metadata": {},
     "output_type": "execute_result"
    }
   ],
   "execution_count": 45
  },
  {
   "cell_type": "markdown",
   "metadata": {},
   "source": [
    "Ubicamos en el mapa esos siniestros sin Barrio"
   ]
  },
  {
   "cell_type": "code",
   "metadata": {
    "ExecuteTime": {
     "end_time": "2024-04-17T00:50:35.870384Z",
     "start_time": "2024-04-17T00:50:35.776431Z"
    }
   },
   "source": [
    "homicidios_sin_barrio = homicidios[homicidios['Barrio'] == '']\n",
    "\n",
    "fig = px.scatter_mapbox(\n",
    "    homicidios_sin_barrio,\n",
    "    lat = 'POS Y',\n",
    "    lon = 'POS X',\n",
    "    zoom = 10,\n",
    "    width = 800,   \n",
    "    height = 680 \n",
    ")\n",
    "\n",
    "fig.update_layout(mapbox_style = 'open-street-map')\n",
    "fig.update_layout(title_x=0.5,\n",
    "                  title_y=0.95, \n",
    "                  title_text='Siniestros sin datos de Barrio',\n",
    "                  title_font=dict(size=24))\n",
    "fig.update_traces(marker=dict(size=7, color='#113946'))  \n",
    "\n",
    "\n",
    "fig.show()"
   ],
   "outputs": [
    {
     "data": {
      "application/vnd.plotly.v1+json": {
       "data": [
        {
         "hovertemplate": "POS Y=%{lat}<br>POS X=%{lon}<extra></extra>",
         "lat": [
          -34.65970435,
          -34.63063795,
          -34.61079875,
          -34.65076549,
          -34.6088396,
          -34.68795245,
          -34.62704273,
          -34.62356174,
          -34.67316502,
          -34.59798754,
          -34.61232875,
          -34.60509972,
          -34.57962262,
          -34.65997463,
          -34.61516101,
          -34.66977709,
          -34.5497951,
          -34.5407313,
          -34.64592873,
          -34.66252488,
          -34.53825652,
          -34.65429986,
          -34.60922259,
          -34.63491705,
          -34.5497951,
          -34.63215432,
          -34.65679806,
          -34.63931792,
          -34.55719892,
          -34.63348678,
          -34.65470804
         ],
         "legendgroup": "",
         "lon": [
          -58.44989671,
          -58.45157703,
          -58.38144696,
          -58.40623949,
          -58.40603217,
          -58.48695354,
          -58.39118948,
          -58.40042405,
          -58.50011639,
          -58.52340614,
          -58.36956186,
          -58.38362373,
          -58.49563989,
          -58.52173071,
          -58.41095567,
          -58.50877521,
          -58.5007381,
          -58.48098594,
          -58.52844623,
          -58.5183993,
          -58.47617802,
          -58.37157668,
          -58.41178158,
          -58.4475047,
          -58.5007381,
          -58.46899119,
          -58.44642231,
          -58.51739138,
          -58.44751621,
          -58.46851293,
          -58.43960781
         ],
         "marker": {
          "color": "#113946",
          "size": 7
         },
         "mode": "markers",
         "name": "",
         "showlegend": false,
         "subplot": "mapbox",
         "type": "scattermapbox"
        }
       ],
       "layout": {
        "template": {
         "data": {
          "histogram2dcontour": [
           {
            "type": "histogram2dcontour",
            "colorbar": {
             "outlinewidth": 0,
             "ticks": ""
            },
            "colorscale": [
             [
              0.0,
              "#0d0887"
             ],
             [
              0.1111111111111111,
              "#46039f"
             ],
             [
              0.2222222222222222,
              "#7201a8"
             ],
             [
              0.3333333333333333,
              "#9c179e"
             ],
             [
              0.4444444444444444,
              "#bd3786"
             ],
             [
              0.5555555555555556,
              "#d8576b"
             ],
             [
              0.6666666666666666,
              "#ed7953"
             ],
             [
              0.7777777777777778,
              "#fb9f3a"
             ],
             [
              0.8888888888888888,
              "#fdca26"
             ],
             [
              1.0,
              "#f0f921"
             ]
            ]
           }
          ],
          "choropleth": [
           {
            "type": "choropleth",
            "colorbar": {
             "outlinewidth": 0,
             "ticks": ""
            }
           }
          ],
          "histogram2d": [
           {
            "type": "histogram2d",
            "colorbar": {
             "outlinewidth": 0,
             "ticks": ""
            },
            "colorscale": [
             [
              0.0,
              "#0d0887"
             ],
             [
              0.1111111111111111,
              "#46039f"
             ],
             [
              0.2222222222222222,
              "#7201a8"
             ],
             [
              0.3333333333333333,
              "#9c179e"
             ],
             [
              0.4444444444444444,
              "#bd3786"
             ],
             [
              0.5555555555555556,
              "#d8576b"
             ],
             [
              0.6666666666666666,
              "#ed7953"
             ],
             [
              0.7777777777777778,
              "#fb9f3a"
             ],
             [
              0.8888888888888888,
              "#fdca26"
             ],
             [
              1.0,
              "#f0f921"
             ]
            ]
           }
          ],
          "heatmap": [
           {
            "type": "heatmap",
            "colorbar": {
             "outlinewidth": 0,
             "ticks": ""
            },
            "colorscale": [
             [
              0.0,
              "#0d0887"
             ],
             [
              0.1111111111111111,
              "#46039f"
             ],
             [
              0.2222222222222222,
              "#7201a8"
             ],
             [
              0.3333333333333333,
              "#9c179e"
             ],
             [
              0.4444444444444444,
              "#bd3786"
             ],
             [
              0.5555555555555556,
              "#d8576b"
             ],
             [
              0.6666666666666666,
              "#ed7953"
             ],
             [
              0.7777777777777778,
              "#fb9f3a"
             ],
             [
              0.8888888888888888,
              "#fdca26"
             ],
             [
              1.0,
              "#f0f921"
             ]
            ]
           }
          ],
          "heatmapgl": [
           {
            "type": "heatmapgl",
            "colorbar": {
             "outlinewidth": 0,
             "ticks": ""
            },
            "colorscale": [
             [
              0.0,
              "#0d0887"
             ],
             [
              0.1111111111111111,
              "#46039f"
             ],
             [
              0.2222222222222222,
              "#7201a8"
             ],
             [
              0.3333333333333333,
              "#9c179e"
             ],
             [
              0.4444444444444444,
              "#bd3786"
             ],
             [
              0.5555555555555556,
              "#d8576b"
             ],
             [
              0.6666666666666666,
              "#ed7953"
             ],
             [
              0.7777777777777778,
              "#fb9f3a"
             ],
             [
              0.8888888888888888,
              "#fdca26"
             ],
             [
              1.0,
              "#f0f921"
             ]
            ]
           }
          ],
          "contourcarpet": [
           {
            "type": "contourcarpet",
            "colorbar": {
             "outlinewidth": 0,
             "ticks": ""
            }
           }
          ],
          "contour": [
           {
            "type": "contour",
            "colorbar": {
             "outlinewidth": 0,
             "ticks": ""
            },
            "colorscale": [
             [
              0.0,
              "#0d0887"
             ],
             [
              0.1111111111111111,
              "#46039f"
             ],
             [
              0.2222222222222222,
              "#7201a8"
             ],
             [
              0.3333333333333333,
              "#9c179e"
             ],
             [
              0.4444444444444444,
              "#bd3786"
             ],
             [
              0.5555555555555556,
              "#d8576b"
             ],
             [
              0.6666666666666666,
              "#ed7953"
             ],
             [
              0.7777777777777778,
              "#fb9f3a"
             ],
             [
              0.8888888888888888,
              "#fdca26"
             ],
             [
              1.0,
              "#f0f921"
             ]
            ]
           }
          ],
          "surface": [
           {
            "type": "surface",
            "colorbar": {
             "outlinewidth": 0,
             "ticks": ""
            },
            "colorscale": [
             [
              0.0,
              "#0d0887"
             ],
             [
              0.1111111111111111,
              "#46039f"
             ],
             [
              0.2222222222222222,
              "#7201a8"
             ],
             [
              0.3333333333333333,
              "#9c179e"
             ],
             [
              0.4444444444444444,
              "#bd3786"
             ],
             [
              0.5555555555555556,
              "#d8576b"
             ],
             [
              0.6666666666666666,
              "#ed7953"
             ],
             [
              0.7777777777777778,
              "#fb9f3a"
             ],
             [
              0.8888888888888888,
              "#fdca26"
             ],
             [
              1.0,
              "#f0f921"
             ]
            ]
           }
          ],
          "mesh3d": [
           {
            "type": "mesh3d",
            "colorbar": {
             "outlinewidth": 0,
             "ticks": ""
            }
           }
          ],
          "scatter": [
           {
            "marker": {
             "line": {
              "color": "#283442"
             }
            },
            "type": "scatter"
           }
          ],
          "parcoords": [
           {
            "type": "parcoords",
            "line": {
             "colorbar": {
              "outlinewidth": 0,
              "ticks": ""
             }
            }
           }
          ],
          "scatterpolargl": [
           {
            "type": "scatterpolargl",
            "marker": {
             "colorbar": {
              "outlinewidth": 0,
              "ticks": ""
             }
            }
           }
          ],
          "bar": [
           {
            "error_x": {
             "color": "#f2f5fa"
            },
            "error_y": {
             "color": "#f2f5fa"
            },
            "marker": {
             "line": {
              "color": "rgb(17,17,17)",
              "width": 0.5
             },
             "pattern": {
              "fillmode": "overlay",
              "size": 10,
              "solidity": 0.2
             }
            },
            "type": "bar"
           }
          ],
          "scattergeo": [
           {
            "type": "scattergeo",
            "marker": {
             "colorbar": {
              "outlinewidth": 0,
              "ticks": ""
             }
            }
           }
          ],
          "scatterpolar": [
           {
            "type": "scatterpolar",
            "marker": {
             "colorbar": {
              "outlinewidth": 0,
              "ticks": ""
             }
            }
           }
          ],
          "histogram": [
           {
            "marker": {
             "pattern": {
              "fillmode": "overlay",
              "size": 10,
              "solidity": 0.2
             }
            },
            "type": "histogram"
           }
          ],
          "scattergl": [
           {
            "marker": {
             "line": {
              "color": "#283442"
             }
            },
            "type": "scattergl"
           }
          ],
          "scatter3d": [
           {
            "type": "scatter3d",
            "line": {
             "colorbar": {
              "outlinewidth": 0,
              "ticks": ""
             }
            },
            "marker": {
             "colorbar": {
              "outlinewidth": 0,
              "ticks": ""
             }
            }
           }
          ],
          "scattermapbox": [
           {
            "type": "scattermapbox",
            "marker": {
             "colorbar": {
              "outlinewidth": 0,
              "ticks": ""
             }
            }
           }
          ],
          "scatterternary": [
           {
            "type": "scatterternary",
            "marker": {
             "colorbar": {
              "outlinewidth": 0,
              "ticks": ""
             }
            }
           }
          ],
          "scattercarpet": [
           {
            "type": "scattercarpet",
            "marker": {
             "colorbar": {
              "outlinewidth": 0,
              "ticks": ""
             }
            }
           }
          ],
          "carpet": [
           {
            "aaxis": {
             "endlinecolor": "#A2B1C6",
             "gridcolor": "#506784",
             "linecolor": "#506784",
             "minorgridcolor": "#506784",
             "startlinecolor": "#A2B1C6"
            },
            "baxis": {
             "endlinecolor": "#A2B1C6",
             "gridcolor": "#506784",
             "linecolor": "#506784",
             "minorgridcolor": "#506784",
             "startlinecolor": "#A2B1C6"
            },
            "type": "carpet"
           }
          ],
          "table": [
           {
            "cells": {
             "fill": {
              "color": "#506784"
             },
             "line": {
              "color": "rgb(17,17,17)"
             }
            },
            "header": {
             "fill": {
              "color": "#2a3f5f"
             },
             "line": {
              "color": "rgb(17,17,17)"
             }
            },
            "type": "table"
           }
          ],
          "barpolar": [
           {
            "marker": {
             "line": {
              "color": "rgb(17,17,17)",
              "width": 0.5
             },
             "pattern": {
              "fillmode": "overlay",
              "size": 10,
              "solidity": 0.2
             }
            },
            "type": "barpolar"
           }
          ],
          "pie": [
           {
            "automargin": true,
            "type": "pie"
           }
          ]
         },
         "layout": {
          "autotypenumbers": "strict",
          "colorway": [
           "#636efa",
           "#EF553B",
           "#00cc96",
           "#ab63fa",
           "#FFA15A",
           "#19d3f3",
           "#FF6692",
           "#B6E880",
           "#FF97FF",
           "#FECB52"
          ],
          "font": {
           "color": "#f2f5fa"
          },
          "hovermode": "closest",
          "hoverlabel": {
           "align": "left"
          },
          "paper_bgcolor": "rgb(17,17,17)",
          "plot_bgcolor": "rgb(17,17,17)",
          "polar": {
           "bgcolor": "rgb(17,17,17)",
           "angularaxis": {
            "gridcolor": "#506784",
            "linecolor": "#506784",
            "ticks": ""
           },
           "radialaxis": {
            "gridcolor": "#506784",
            "linecolor": "#506784",
            "ticks": ""
           }
          },
          "ternary": {
           "bgcolor": "rgb(17,17,17)",
           "aaxis": {
            "gridcolor": "#506784",
            "linecolor": "#506784",
            "ticks": ""
           },
           "baxis": {
            "gridcolor": "#506784",
            "linecolor": "#506784",
            "ticks": ""
           },
           "caxis": {
            "gridcolor": "#506784",
            "linecolor": "#506784",
            "ticks": ""
           }
          },
          "coloraxis": {
           "colorbar": {
            "outlinewidth": 0,
            "ticks": ""
           }
          },
          "colorscale": {
           "sequential": [
            [
             0.0,
             "#0d0887"
            ],
            [
             0.1111111111111111,
             "#46039f"
            ],
            [
             0.2222222222222222,
             "#7201a8"
            ],
            [
             0.3333333333333333,
             "#9c179e"
            ],
            [
             0.4444444444444444,
             "#bd3786"
            ],
            [
             0.5555555555555556,
             "#d8576b"
            ],
            [
             0.6666666666666666,
             "#ed7953"
            ],
            [
             0.7777777777777778,
             "#fb9f3a"
            ],
            [
             0.8888888888888888,
             "#fdca26"
            ],
            [
             1.0,
             "#f0f921"
            ]
           ],
           "sequentialminus": [
            [
             0.0,
             "#0d0887"
            ],
            [
             0.1111111111111111,
             "#46039f"
            ],
            [
             0.2222222222222222,
             "#7201a8"
            ],
            [
             0.3333333333333333,
             "#9c179e"
            ],
            [
             0.4444444444444444,
             "#bd3786"
            ],
            [
             0.5555555555555556,
             "#d8576b"
            ],
            [
             0.6666666666666666,
             "#ed7953"
            ],
            [
             0.7777777777777778,
             "#fb9f3a"
            ],
            [
             0.8888888888888888,
             "#fdca26"
            ],
            [
             1.0,
             "#f0f921"
            ]
           ],
           "diverging": [
            [
             0,
             "#8e0152"
            ],
            [
             0.1,
             "#c51b7d"
            ],
            [
             0.2,
             "#de77ae"
            ],
            [
             0.3,
             "#f1b6da"
            ],
            [
             0.4,
             "#fde0ef"
            ],
            [
             0.5,
             "#f7f7f7"
            ],
            [
             0.6,
             "#e6f5d0"
            ],
            [
             0.7,
             "#b8e186"
            ],
            [
             0.8,
             "#7fbc41"
            ],
            [
             0.9,
             "#4d9221"
            ],
            [
             1,
             "#276419"
            ]
           ]
          },
          "xaxis": {
           "gridcolor": "#283442",
           "linecolor": "#506784",
           "ticks": "",
           "title": {
            "standoff": 15
           },
           "zerolinecolor": "#283442",
           "automargin": true,
           "zerolinewidth": 2
          },
          "yaxis": {
           "gridcolor": "#283442",
           "linecolor": "#506784",
           "ticks": "",
           "title": {
            "standoff": 15
           },
           "zerolinecolor": "#283442",
           "automargin": true,
           "zerolinewidth": 2
          },
          "scene": {
           "xaxis": {
            "backgroundcolor": "rgb(17,17,17)",
            "gridcolor": "#506784",
            "linecolor": "#506784",
            "showbackground": true,
            "ticks": "",
            "zerolinecolor": "#C8D4E3",
            "gridwidth": 2
           },
           "yaxis": {
            "backgroundcolor": "rgb(17,17,17)",
            "gridcolor": "#506784",
            "linecolor": "#506784",
            "showbackground": true,
            "ticks": "",
            "zerolinecolor": "#C8D4E3",
            "gridwidth": 2
           },
           "zaxis": {
            "backgroundcolor": "rgb(17,17,17)",
            "gridcolor": "#506784",
            "linecolor": "#506784",
            "showbackground": true,
            "ticks": "",
            "zerolinecolor": "#C8D4E3",
            "gridwidth": 2
           }
          },
          "shapedefaults": {
           "line": {
            "color": "#f2f5fa"
           }
          },
          "annotationdefaults": {
           "arrowcolor": "#f2f5fa",
           "arrowhead": 0,
           "arrowwidth": 1
          },
          "geo": {
           "bgcolor": "rgb(17,17,17)",
           "landcolor": "rgb(17,17,17)",
           "subunitcolor": "#506784",
           "showland": true,
           "showlakes": true,
           "lakecolor": "rgb(17,17,17)"
          },
          "title": {
           "x": 0.05
          },
          "updatemenudefaults": {
           "bgcolor": "#506784",
           "borderwidth": 0
          },
          "sliderdefaults": {
           "bgcolor": "#C8D4E3",
           "borderwidth": 1,
           "bordercolor": "rgb(17,17,17)",
           "tickwidth": 0
          },
          "mapbox": {
           "style": "dark"
          }
         }
        },
        "mapbox": {
         "domain": {
          "x": [
           0.0,
           1.0
          ],
          "y": [
           0.0,
           1.0
          ]
         },
         "center": {
          "lat": -34.62166305193549,
          "lon": -58.455237403548395
         },
         "zoom": 10,
         "style": "open-street-map"
        },
        "legend": {
         "tracegroupgap": 0
        },
        "margin": {
         "t": 60
        },
        "height": 680,
        "width": 800,
        "title": {
         "font": {
          "size": 24
         },
         "x": 0.5,
         "y": 0.95,
         "text": "Siniestros sin datos de Barrio"
        }
       },
       "config": {
        "plotlyServerURL": "https://plot.ly"
       }
      },
      "text/html": [
       "<div>                            <div id=\"3c377f47-8253-4319-b3ff-1a2081912df3\" class=\"plotly-graph-div\" style=\"height:680px; width:800px;\"></div>            <script type=\"text/javascript\">                require([\"plotly\"], function(Plotly) {                    window.PLOTLYENV=window.PLOTLYENV || {};                                    if (document.getElementById(\"3c377f47-8253-4319-b3ff-1a2081912df3\")) {                    Plotly.newPlot(                        \"3c377f47-8253-4319-b3ff-1a2081912df3\",                        [{\"hovertemplate\":\"POS Y=%{lat}\\u003cbr\\u003ePOS X=%{lon}\\u003cextra\\u003e\\u003c\\u002fextra\\u003e\",\"lat\":[-34.65970435,-34.63063795,-34.61079875,-34.65076549,-34.6088396,-34.68795245,-34.62704273,-34.62356174,-34.67316502,-34.59798754,-34.61232875,-34.60509972,-34.57962262,-34.65997463,-34.61516101,-34.66977709,-34.5497951,-34.5407313,-34.64592873,-34.66252488,-34.53825652,-34.65429986,-34.60922259,-34.63491705,-34.5497951,-34.63215432,-34.65679806,-34.63931792,-34.55719892,-34.63348678,-34.65470804],\"legendgroup\":\"\",\"lon\":[-58.44989671,-58.45157703,-58.38144696,-58.40623949,-58.40603217,-58.48695354,-58.39118948,-58.40042405,-58.50011639,-58.52340614,-58.36956186,-58.38362373,-58.49563989,-58.52173071,-58.41095567,-58.50877521,-58.5007381,-58.48098594,-58.52844623,-58.5183993,-58.47617802,-58.37157668,-58.41178158,-58.4475047,-58.5007381,-58.46899119,-58.44642231,-58.51739138,-58.44751621,-58.46851293,-58.43960781],\"marker\":{\"color\":\"#113946\",\"size\":7},\"mode\":\"markers\",\"name\":\"\",\"showlegend\":false,\"subplot\":\"mapbox\",\"type\":\"scattermapbox\"}],                        {\"template\":{\"data\":{\"histogram2dcontour\":[{\"type\":\"histogram2dcontour\",\"colorbar\":{\"outlinewidth\":0,\"ticks\":\"\"},\"colorscale\":[[0.0,\"#0d0887\"],[0.1111111111111111,\"#46039f\"],[0.2222222222222222,\"#7201a8\"],[0.3333333333333333,\"#9c179e\"],[0.4444444444444444,\"#bd3786\"],[0.5555555555555556,\"#d8576b\"],[0.6666666666666666,\"#ed7953\"],[0.7777777777777778,\"#fb9f3a\"],[0.8888888888888888,\"#fdca26\"],[1.0,\"#f0f921\"]]}],\"choropleth\":[{\"type\":\"choropleth\",\"colorbar\":{\"outlinewidth\":0,\"ticks\":\"\"}}],\"histogram2d\":[{\"type\":\"histogram2d\",\"colorbar\":{\"outlinewidth\":0,\"ticks\":\"\"},\"colorscale\":[[0.0,\"#0d0887\"],[0.1111111111111111,\"#46039f\"],[0.2222222222222222,\"#7201a8\"],[0.3333333333333333,\"#9c179e\"],[0.4444444444444444,\"#bd3786\"],[0.5555555555555556,\"#d8576b\"],[0.6666666666666666,\"#ed7953\"],[0.7777777777777778,\"#fb9f3a\"],[0.8888888888888888,\"#fdca26\"],[1.0,\"#f0f921\"]]}],\"heatmap\":[{\"type\":\"heatmap\",\"colorbar\":{\"outlinewidth\":0,\"ticks\":\"\"},\"colorscale\":[[0.0,\"#0d0887\"],[0.1111111111111111,\"#46039f\"],[0.2222222222222222,\"#7201a8\"],[0.3333333333333333,\"#9c179e\"],[0.4444444444444444,\"#bd3786\"],[0.5555555555555556,\"#d8576b\"],[0.6666666666666666,\"#ed7953\"],[0.7777777777777778,\"#fb9f3a\"],[0.8888888888888888,\"#fdca26\"],[1.0,\"#f0f921\"]]}],\"heatmapgl\":[{\"type\":\"heatmapgl\",\"colorbar\":{\"outlinewidth\":0,\"ticks\":\"\"},\"colorscale\":[[0.0,\"#0d0887\"],[0.1111111111111111,\"#46039f\"],[0.2222222222222222,\"#7201a8\"],[0.3333333333333333,\"#9c179e\"],[0.4444444444444444,\"#bd3786\"],[0.5555555555555556,\"#d8576b\"],[0.6666666666666666,\"#ed7953\"],[0.7777777777777778,\"#fb9f3a\"],[0.8888888888888888,\"#fdca26\"],[1.0,\"#f0f921\"]]}],\"contourcarpet\":[{\"type\":\"contourcarpet\",\"colorbar\":{\"outlinewidth\":0,\"ticks\":\"\"}}],\"contour\":[{\"type\":\"contour\",\"colorbar\":{\"outlinewidth\":0,\"ticks\":\"\"},\"colorscale\":[[0.0,\"#0d0887\"],[0.1111111111111111,\"#46039f\"],[0.2222222222222222,\"#7201a8\"],[0.3333333333333333,\"#9c179e\"],[0.4444444444444444,\"#bd3786\"],[0.5555555555555556,\"#d8576b\"],[0.6666666666666666,\"#ed7953\"],[0.7777777777777778,\"#fb9f3a\"],[0.8888888888888888,\"#fdca26\"],[1.0,\"#f0f921\"]]}],\"surface\":[{\"type\":\"surface\",\"colorbar\":{\"outlinewidth\":0,\"ticks\":\"\"},\"colorscale\":[[0.0,\"#0d0887\"],[0.1111111111111111,\"#46039f\"],[0.2222222222222222,\"#7201a8\"],[0.3333333333333333,\"#9c179e\"],[0.4444444444444444,\"#bd3786\"],[0.5555555555555556,\"#d8576b\"],[0.6666666666666666,\"#ed7953\"],[0.7777777777777778,\"#fb9f3a\"],[0.8888888888888888,\"#fdca26\"],[1.0,\"#f0f921\"]]}],\"mesh3d\":[{\"type\":\"mesh3d\",\"colorbar\":{\"outlinewidth\":0,\"ticks\":\"\"}}],\"scatter\":[{\"marker\":{\"line\":{\"color\":\"#283442\"}},\"type\":\"scatter\"}],\"parcoords\":[{\"type\":\"parcoords\",\"line\":{\"colorbar\":{\"outlinewidth\":0,\"ticks\":\"\"}}}],\"scatterpolargl\":[{\"type\":\"scatterpolargl\",\"marker\":{\"colorbar\":{\"outlinewidth\":0,\"ticks\":\"\"}}}],\"bar\":[{\"error_x\":{\"color\":\"#f2f5fa\"},\"error_y\":{\"color\":\"#f2f5fa\"},\"marker\":{\"line\":{\"color\":\"rgb(17,17,17)\",\"width\":0.5},\"pattern\":{\"fillmode\":\"overlay\",\"size\":10,\"solidity\":0.2}},\"type\":\"bar\"}],\"scattergeo\":[{\"type\":\"scattergeo\",\"marker\":{\"colorbar\":{\"outlinewidth\":0,\"ticks\":\"\"}}}],\"scatterpolar\":[{\"type\":\"scatterpolar\",\"marker\":{\"colorbar\":{\"outlinewidth\":0,\"ticks\":\"\"}}}],\"histogram\":[{\"marker\":{\"pattern\":{\"fillmode\":\"overlay\",\"size\":10,\"solidity\":0.2}},\"type\":\"histogram\"}],\"scattergl\":[{\"marker\":{\"line\":{\"color\":\"#283442\"}},\"type\":\"scattergl\"}],\"scatter3d\":[{\"type\":\"scatter3d\",\"line\":{\"colorbar\":{\"outlinewidth\":0,\"ticks\":\"\"}},\"marker\":{\"colorbar\":{\"outlinewidth\":0,\"ticks\":\"\"}}}],\"scattermapbox\":[{\"type\":\"scattermapbox\",\"marker\":{\"colorbar\":{\"outlinewidth\":0,\"ticks\":\"\"}}}],\"scatterternary\":[{\"type\":\"scatterternary\",\"marker\":{\"colorbar\":{\"outlinewidth\":0,\"ticks\":\"\"}}}],\"scattercarpet\":[{\"type\":\"scattercarpet\",\"marker\":{\"colorbar\":{\"outlinewidth\":0,\"ticks\":\"\"}}}],\"carpet\":[{\"aaxis\":{\"endlinecolor\":\"#A2B1C6\",\"gridcolor\":\"#506784\",\"linecolor\":\"#506784\",\"minorgridcolor\":\"#506784\",\"startlinecolor\":\"#A2B1C6\"},\"baxis\":{\"endlinecolor\":\"#A2B1C6\",\"gridcolor\":\"#506784\",\"linecolor\":\"#506784\",\"minorgridcolor\":\"#506784\",\"startlinecolor\":\"#A2B1C6\"},\"type\":\"carpet\"}],\"table\":[{\"cells\":{\"fill\":{\"color\":\"#506784\"},\"line\":{\"color\":\"rgb(17,17,17)\"}},\"header\":{\"fill\":{\"color\":\"#2a3f5f\"},\"line\":{\"color\":\"rgb(17,17,17)\"}},\"type\":\"table\"}],\"barpolar\":[{\"marker\":{\"line\":{\"color\":\"rgb(17,17,17)\",\"width\":0.5},\"pattern\":{\"fillmode\":\"overlay\",\"size\":10,\"solidity\":0.2}},\"type\":\"barpolar\"}],\"pie\":[{\"automargin\":true,\"type\":\"pie\"}]},\"layout\":{\"autotypenumbers\":\"strict\",\"colorway\":[\"#636efa\",\"#EF553B\",\"#00cc96\",\"#ab63fa\",\"#FFA15A\",\"#19d3f3\",\"#FF6692\",\"#B6E880\",\"#FF97FF\",\"#FECB52\"],\"font\":{\"color\":\"#f2f5fa\"},\"hovermode\":\"closest\",\"hoverlabel\":{\"align\":\"left\"},\"paper_bgcolor\":\"rgb(17,17,17)\",\"plot_bgcolor\":\"rgb(17,17,17)\",\"polar\":{\"bgcolor\":\"rgb(17,17,17)\",\"angularaxis\":{\"gridcolor\":\"#506784\",\"linecolor\":\"#506784\",\"ticks\":\"\"},\"radialaxis\":{\"gridcolor\":\"#506784\",\"linecolor\":\"#506784\",\"ticks\":\"\"}},\"ternary\":{\"bgcolor\":\"rgb(17,17,17)\",\"aaxis\":{\"gridcolor\":\"#506784\",\"linecolor\":\"#506784\",\"ticks\":\"\"},\"baxis\":{\"gridcolor\":\"#506784\",\"linecolor\":\"#506784\",\"ticks\":\"\"},\"caxis\":{\"gridcolor\":\"#506784\",\"linecolor\":\"#506784\",\"ticks\":\"\"}},\"coloraxis\":{\"colorbar\":{\"outlinewidth\":0,\"ticks\":\"\"}},\"colorscale\":{\"sequential\":[[0.0,\"#0d0887\"],[0.1111111111111111,\"#46039f\"],[0.2222222222222222,\"#7201a8\"],[0.3333333333333333,\"#9c179e\"],[0.4444444444444444,\"#bd3786\"],[0.5555555555555556,\"#d8576b\"],[0.6666666666666666,\"#ed7953\"],[0.7777777777777778,\"#fb9f3a\"],[0.8888888888888888,\"#fdca26\"],[1.0,\"#f0f921\"]],\"sequentialminus\":[[0.0,\"#0d0887\"],[0.1111111111111111,\"#46039f\"],[0.2222222222222222,\"#7201a8\"],[0.3333333333333333,\"#9c179e\"],[0.4444444444444444,\"#bd3786\"],[0.5555555555555556,\"#d8576b\"],[0.6666666666666666,\"#ed7953\"],[0.7777777777777778,\"#fb9f3a\"],[0.8888888888888888,\"#fdca26\"],[1.0,\"#f0f921\"]],\"diverging\":[[0,\"#8e0152\"],[0.1,\"#c51b7d\"],[0.2,\"#de77ae\"],[0.3,\"#f1b6da\"],[0.4,\"#fde0ef\"],[0.5,\"#f7f7f7\"],[0.6,\"#e6f5d0\"],[0.7,\"#b8e186\"],[0.8,\"#7fbc41\"],[0.9,\"#4d9221\"],[1,\"#276419\"]]},\"xaxis\":{\"gridcolor\":\"#283442\",\"linecolor\":\"#506784\",\"ticks\":\"\",\"title\":{\"standoff\":15},\"zerolinecolor\":\"#283442\",\"automargin\":true,\"zerolinewidth\":2},\"yaxis\":{\"gridcolor\":\"#283442\",\"linecolor\":\"#506784\",\"ticks\":\"\",\"title\":{\"standoff\":15},\"zerolinecolor\":\"#283442\",\"automargin\":true,\"zerolinewidth\":2},\"scene\":{\"xaxis\":{\"backgroundcolor\":\"rgb(17,17,17)\",\"gridcolor\":\"#506784\",\"linecolor\":\"#506784\",\"showbackground\":true,\"ticks\":\"\",\"zerolinecolor\":\"#C8D4E3\",\"gridwidth\":2},\"yaxis\":{\"backgroundcolor\":\"rgb(17,17,17)\",\"gridcolor\":\"#506784\",\"linecolor\":\"#506784\",\"showbackground\":true,\"ticks\":\"\",\"zerolinecolor\":\"#C8D4E3\",\"gridwidth\":2},\"zaxis\":{\"backgroundcolor\":\"rgb(17,17,17)\",\"gridcolor\":\"#506784\",\"linecolor\":\"#506784\",\"showbackground\":true,\"ticks\":\"\",\"zerolinecolor\":\"#C8D4E3\",\"gridwidth\":2}},\"shapedefaults\":{\"line\":{\"color\":\"#f2f5fa\"}},\"annotationdefaults\":{\"arrowcolor\":\"#f2f5fa\",\"arrowhead\":0,\"arrowwidth\":1},\"geo\":{\"bgcolor\":\"rgb(17,17,17)\",\"landcolor\":\"rgb(17,17,17)\",\"subunitcolor\":\"#506784\",\"showland\":true,\"showlakes\":true,\"lakecolor\":\"rgb(17,17,17)\"},\"title\":{\"x\":0.05},\"updatemenudefaults\":{\"bgcolor\":\"#506784\",\"borderwidth\":0},\"sliderdefaults\":{\"bgcolor\":\"#C8D4E3\",\"borderwidth\":1,\"bordercolor\":\"rgb(17,17,17)\",\"tickwidth\":0},\"mapbox\":{\"style\":\"dark\"}}},\"mapbox\":{\"domain\":{\"x\":[0.0,1.0],\"y\":[0.0,1.0]},\"center\":{\"lat\":-34.62166305193549,\"lon\":-58.455237403548395},\"zoom\":10,\"style\":\"open-street-map\"},\"legend\":{\"tracegroupgap\":0},\"margin\":{\"t\":60},\"height\":680,\"width\":800,\"title\":{\"font\":{\"size\":24},\"x\":0.5,\"y\":0.95,\"text\":\"Siniestros sin datos de Barrio\"}},                        {\"responsive\": true}                    ).then(function(){\n",
       "                            \n",
       "var gd = document.getElementById('3c377f47-8253-4319-b3ff-1a2081912df3');\n",
       "var x = new MutationObserver(function (mutations, observer) {{\n",
       "        var display = window.getComputedStyle(gd).display;\n",
       "        if (!display || display === 'none') {{\n",
       "            console.log([gd, 'removed!']);\n",
       "            Plotly.purge(gd);\n",
       "            observer.disconnect();\n",
       "        }}\n",
       "}});\n",
       "\n",
       "// Listen for the removal of the full notebook cells\n",
       "var notebookContainer = gd.closest('#notebook-container');\n",
       "if (notebookContainer) {{\n",
       "    x.observe(notebookContainer, {childList: true});\n",
       "}}\n",
       "\n",
       "// Listen for the clearing of the current output cell\n",
       "var outputEl = gd.closest('.output');\n",
       "if (outputEl) {{\n",
       "    x.observe(outputEl, {childList: true});\n",
       "}}\n",
       "\n",
       "                        })                };                });            </script>        </div>"
      ]
     },
     "metadata": {},
     "output_type": "display_data"
    }
   ],
   "execution_count": 46
  },
  {
   "cell_type": "markdown",
   "metadata": {},
   "source": [
    "Se imputan esos puntos poniendo los valores de esos Barrios vacios Sobre la General Paz como se observa en el mapa"
   ]
  },
  {
   "cell_type": "code",
   "metadata": {
    "ExecuteTime": {
     "end_time": "2024-04-17T00:50:35.881274Z",
     "start_time": "2024-04-17T00:50:35.874397Z"
    }
   },
   "source": [
    "homicidios['Barrio'] = homicidios['Barrio'].replace('', 'Sobre Gral. Paz')"
   ],
   "outputs": [],
   "execution_count": 47
  },
  {
   "cell_type": "markdown",
   "metadata": {},
   "source": [
    "#### Guardando el Dataframe"
   ]
  },
  {
   "cell_type": "code",
   "metadata": {
    "ExecuteTime": {
     "end_time": "2024-04-17T00:50:35.908367Z",
     "start_time": "2024-04-17T00:50:35.883880Z"
    }
   },
   "source": [
    "homicidios.to_csv('homicidios_hechos.csv', index=False, encoding='utf-8')"
   ],
   "outputs": [],
   "execution_count": 48
  },
  {
   "cell_type": "markdown",
   "metadata": {},
   "source": [
    "Scrapping  de Wikipedia\n",
    "*La página que usaremos es esta: https://es.wikipedia.org/wiki/Censo_argentino_de_2022, el cual tiene información estadístico del Censo del 2010 y 2022 categorizado por Jurisdicción y Aglomerado Urbano.*"
   ]
  },
  {
   "cell_type": "code",
   "metadata": {
    "ExecuteTime": {
     "end_time": "2024-04-17T00:50:37.122911Z",
     "start_time": "2024-04-17T00:50:35.910549Z"
    }
   },
   "source": [
    "url = 'https://es.wikipedia.org/wiki/Censo_argentino_de_2022'\n",
    "\n",
    "# Realizamos una solicitud GET a la página\n",
    "response = requests.get(url)\n",
    "\n",
    "# Analizamos el contenido HTML de la página\n",
    "soup = BeautifulSoup(response.content, 'html.parser')\n",
    "\n",
    "# Buscamos la segunda tabla de la pagina con la clase 'wikitable'\n",
    "tabla = soup.find_all('table', class_='wikitable')[0]\n",
    "\n",
    "# Extraemos los datos de la tabla y lo guardamos en una lista\n",
    "datos = []\n",
    "filas = tabla.find_all('tr')\n",
    "\n",
    "for fila in filas[1:]:  \n",
    "    celdas = fila.find_all(['th', 'td'])\n",
    "    fila_datos = [celda.get_text(strip=True) for celda in celdas]\n",
    "    datos.append(fila_datos)"
   ],
   "outputs": [],
   "execution_count": 49
  },
  {
   "cell_type": "markdown",
   "metadata": {},
   "source": [
    "Vemos los datos extraidos y seleccionamos los datos de la Ciudad Autónoma de Buenos Aires."
   ]
  },
  {
   "cell_type": "code",
   "metadata": {
    "ExecuteTime": {
     "end_time": "2024-04-17T00:50:37.134541Z",
     "start_time": "2024-04-17T00:50:37.125944Z"
    }
   },
   "source": [
    "for fila in datos:\n",
    "    print(fila)"
   ],
   "outputs": [
    {
     "name": "stdout",
     "output_type": "stream",
     "text": [
      "['1', 'Provincia de Buenos Aires', '15.625.084[6]\\u200b', '17.523.996[7]\\u200b', '12,1', '9,8']\n",
      "['2', 'Córdoba', '3.308.876', '3.840.905', '16,1', '15,5']\n",
      "['3', 'Santa Fe', '3.194.537', '3.544.908', '11,0', '9,0']\n",
      "['4', 'Ciudad Autónoma de Buenos Aires', '2.890.151', '3.121.707', '8,0', '6,4']\n",
      "['5', 'Mendoza', '1.738.929', '2.043.540', '17,5', '12,3']\n",
      "['6', 'Tucumán', '1.448.188', '1.731.820', '19,6', '13,6']\n",
      "['7', 'Salta', '1.214.441', '1.441.351', '18,7', '14,3']\n",
      "['8', 'Entre Ríos', '1.235.994', '1.425.578', '15,3', '12,0']\n",
      "['9', 'Misiones', '1.101.593', '1.278.873', '16,1', '12,7']\n",
      "['10', 'Corrientes', '992.595', '1.212.696', '22,2', '15,8']\n",
      "['11', 'Chaco', '1.055.259', '1.129.606', '7,0', '6,7']\n",
      "['12', 'Santiago del Estero', '874.006', '1.060.906', '21,4', '15,7']\n",
      "['13', 'San Juan', '681.055', '822.853', '20,8', '15,4']\n",
      "['14', 'Jujuy', '673.307', '811.611', '20,5', '14,3']\n",
      "['15', 'Río Negro', '638.645', '750.768', '17,5', '14,8']\n",
      "['16', 'Neuquén', '551.266', '710.814', '28,9', '23,3']\n",
      "['17', 'Formosa', '530.162', '607.419', '14,8', '11,2']\n",
      "['18', 'Chubut', '509.108', '592.621', '16,4', '14,2']\n",
      "['19', 'San Luis', '432.310', '542.069', '25,4', '18,9']\n",
      "['20', 'Catamarca', '367.828', '429.562', '16,8', '13,0']\n",
      "['21', 'La Rioja', '333.642', '383.865', '15,1', '11,9']\n",
      "['22', 'La Pampa', '318.951', '361.859', '13,5', '11,5']\n",
      "['23', 'Santa Cruz', '273.964', '337.226', '23,1', '16,5']\n",
      "['24', 'Tierra del Fuego', '127.205', '185.732', '46,0', '34,3']\n",
      "['', 'Total del país', '40.117.096', '45.892.285', '14,4', '11,6']\n"
     ]
    }
   ],
   "execution_count": 50
  },
  {
   "cell_type": "code",
   "metadata": {
    "ExecuteTime": {
     "end_time": "2024-04-17T00:50:37.146149Z",
     "start_time": "2024-04-17T00:50:37.136557Z"
    }
   },
   "source": [
    "data_caba = datos[3]\n",
    "data_caba"
   ],
   "outputs": [
    {
     "data": {
      "text/plain": [
       "['4',\n",
       " 'Ciudad Autónoma de Buenos Aires',\n",
       " '2.890.151',\n",
       " '3.121.707',\n",
       " '8,0',\n",
       " '6,4']"
      ]
     },
     "execution_count": 51,
     "metadata": {},
     "output_type": "execute_result"
    }
   ],
   "execution_count": 51
  },
  {
   "cell_type": "markdown",
   "metadata": {},
   "source": [
    "Seleccionamos los valores de la población del 2010 y 2022 de la lista"
   ]
  },
  {
   "cell_type": "code",
   "metadata": {
    "ExecuteTime": {
     "end_time": "2024-04-17T00:50:37.155875Z",
     "start_time": "2024-04-17T00:50:37.148263Z"
    }
   },
   "source": [
    "\n",
    "poblacion_2010 = int(data_caba[2].replace('.', '').replace(',', ''))\n",
    "poblacion_2022 = int(data_caba[3].replace('.', '').replace(',', ''))"
   ],
   "outputs": [],
   "execution_count": 52
  },
  {
   "cell_type": "code",
   "metadata": {
    "ExecuteTime": {
     "end_time": "2024-04-17T00:50:37.163597Z",
     "start_time": "2024-04-17T00:50:37.158400Z"
    }
   },
   "source": [
    "anios = list(range(2010, 2023))\n",
    "\n",
    "poblacion_por_anio = [poblacion_2010 + (poblacion_2022 - poblacion_2010) * (anio - 2010) / 12 for anio in anios]\n",
    "\n",
    "poblacion_por_anio = list(map(int, poblacion_por_anio))"
   ],
   "outputs": [],
   "execution_count": 53
  },
  {
   "cell_type": "code",
   "metadata": {
    "ExecuteTime": {
     "end_time": "2024-04-17T00:50:37.175263Z",
     "start_time": "2024-04-17T00:50:37.166612Z"
    }
   },
   "source": [
    "poblacion_por_anio"
   ],
   "outputs": [
    {
     "data": {
      "text/plain": [
       "[2890151,\n",
       " 2909447,\n",
       " 2928743,\n",
       " 2948040,\n",
       " 2967336,\n",
       " 2986632,\n",
       " 3005929,\n",
       " 3025225,\n",
       " 3044521,\n",
       " 3063818,\n",
       " 3083114,\n",
       " 3102410,\n",
       " 3121707]"
      ]
     },
     "execution_count": 54,
     "metadata": {},
     "output_type": "execute_result"
    }
   ],
   "execution_count": 54
  },
  {
   "cell_type": "markdown",
   "metadata": {},
   "source": [
    "Creamos un DataFrame con los datos"
   ]
  },
  {
   "cell_type": "code",
   "metadata": {
    "ExecuteTime": {
     "end_time": "2024-04-17T00:50:37.183362Z",
     "start_time": "2024-04-17T00:50:37.177275Z"
    }
   },
   "source": [
    "data = {'Año': anios, 'Población': poblacion_por_anio}\n",
    "poblacion_caba = pd.DataFrame(data)"
   ],
   "outputs": [],
   "execution_count": 55
  },
  {
   "cell_type": "code",
   "metadata": {
    "ExecuteTime": {
     "end_time": "2024-04-17T00:50:37.196839Z",
     "start_time": "2024-04-17T00:50:37.185380Z"
    }
   },
   "source": [
    "poblacion_caba"
   ],
   "outputs": [
    {
     "data": {
      "text/plain": [
       "     Año  Población\n",
       "0   2010    2890151\n",
       "1   2011    2909447\n",
       "2   2012    2928743\n",
       "3   2013    2948040\n",
       "4   2014    2967336\n",
       "5   2015    2986632\n",
       "6   2016    3005929\n",
       "7   2017    3025225\n",
       "8   2018    3044521\n",
       "9   2019    3063818\n",
       "10  2020    3083114\n",
       "11  2021    3102410\n",
       "12  2022    3121707"
      ],
      "text/html": [
       "<div>\n",
       "<style scoped>\n",
       "    .dataframe tbody tr th:only-of-type {\n",
       "        vertical-align: middle;\n",
       "    }\n",
       "\n",
       "    .dataframe tbody tr th {\n",
       "        vertical-align: top;\n",
       "    }\n",
       "\n",
       "    .dataframe thead th {\n",
       "        text-align: right;\n",
       "    }\n",
       "</style>\n",
       "<table border=\"1\" class=\"dataframe\">\n",
       "  <thead>\n",
       "    <tr style=\"text-align: right;\">\n",
       "      <th></th>\n",
       "      <th>Año</th>\n",
       "      <th>Población</th>\n",
       "    </tr>\n",
       "  </thead>\n",
       "  <tbody>\n",
       "    <tr>\n",
       "      <th>0</th>\n",
       "      <td>2010</td>\n",
       "      <td>2890151</td>\n",
       "    </tr>\n",
       "    <tr>\n",
       "      <th>1</th>\n",
       "      <td>2011</td>\n",
       "      <td>2909447</td>\n",
       "    </tr>\n",
       "    <tr>\n",
       "      <th>2</th>\n",
       "      <td>2012</td>\n",
       "      <td>2928743</td>\n",
       "    </tr>\n",
       "    <tr>\n",
       "      <th>3</th>\n",
       "      <td>2013</td>\n",
       "      <td>2948040</td>\n",
       "    </tr>\n",
       "    <tr>\n",
       "      <th>4</th>\n",
       "      <td>2014</td>\n",
       "      <td>2967336</td>\n",
       "    </tr>\n",
       "    <tr>\n",
       "      <th>5</th>\n",
       "      <td>2015</td>\n",
       "      <td>2986632</td>\n",
       "    </tr>\n",
       "    <tr>\n",
       "      <th>6</th>\n",
       "      <td>2016</td>\n",
       "      <td>3005929</td>\n",
       "    </tr>\n",
       "    <tr>\n",
       "      <th>7</th>\n",
       "      <td>2017</td>\n",
       "      <td>3025225</td>\n",
       "    </tr>\n",
       "    <tr>\n",
       "      <th>8</th>\n",
       "      <td>2018</td>\n",
       "      <td>3044521</td>\n",
       "    </tr>\n",
       "    <tr>\n",
       "      <th>9</th>\n",
       "      <td>2019</td>\n",
       "      <td>3063818</td>\n",
       "    </tr>\n",
       "    <tr>\n",
       "      <th>10</th>\n",
       "      <td>2020</td>\n",
       "      <td>3083114</td>\n",
       "    </tr>\n",
       "    <tr>\n",
       "      <th>11</th>\n",
       "      <td>2021</td>\n",
       "      <td>3102410</td>\n",
       "    </tr>\n",
       "    <tr>\n",
       "      <th>12</th>\n",
       "      <td>2022</td>\n",
       "      <td>3121707</td>\n",
       "    </tr>\n",
       "  </tbody>\n",
       "</table>\n",
       "</div>"
      ]
     },
     "execution_count": 56,
     "metadata": {},
     "output_type": "execute_result"
    }
   ],
   "execution_count": 56
  },
  {
   "cell_type": "markdown",
   "metadata": {},
   "source": [
    "Guardamos el DataFrame"
   ]
  },
  {
   "cell_type": "code",
   "metadata": {
    "ExecuteTime": {
     "end_time": "2024-04-17T00:50:37.207160Z",
     "start_time": "2024-04-17T00:50:37.198851Z"
    }
   },
   "source": "poblacion_caba.to_csv('población_caba.csv', index= False, encoding='utf-8', sep=',')",
   "outputs": [],
   "execution_count": 57
  }
 ],
 "metadata": {
  "kernelspec": {
   "display_name": "Python 3",
   "language": "python",
   "name": "python3"
  },
  "language_info": {
   "codemirror_mode": {
    "name": "ipython",
    "version": 3
   },
   "file_extension": ".py",
   "mimetype": "text/x-python",
   "name": "python",
   "nbconvert_exporter": "python",
   "pygments_lexer": "ipython3",
   "version": "3.12.2"
  }
 },
 "nbformat": 4,
 "nbformat_minor": 2
}
